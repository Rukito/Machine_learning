{
 "cells": [
  {
   "cell_type": "code",
   "execution_count": 1,
   "metadata": {
    "collapsed": true
   },
   "outputs": [],
   "source": [
    "import numpy as np\n",
    "from sklearn.datasets import fetch_20newsgroups\n",
    "from sklearn.feature_extraction.text import TfidfVectorizer\n",
    "from sklearn.naive_bayes import  MultinomialNB\n",
    "from sklearn.metrics import accuracy_score, classification_report, confusion_matrix"
   ]
  },
  {
   "cell_type": "code",
   "execution_count": 2,
   "metadata": {
    "collapsed": true
   },
   "outputs": [],
   "source": [
    "#wybieramy kategorie dla ktorych zbudujemy klasyfikatory\n",
    "categories = [\n",
    "        'alt.atheism',\n",
    "        'talk.religion.misc',\n",
    "        'comp.graphics',\n",
    "        'sci.space'  ]"
   ]
  },
  {
   "cell_type": "code",
   "execution_count": 3,
   "metadata": {},
   "outputs": [
    {
     "name": "stderr",
     "output_type": "stream",
     "text": [
      "Downloading 20news dataset. This may take a few minutes.\n",
      "Downloading dataset from https://ndownloader.figshare.com/files/5975967 (14 MB)\n"
     ]
    }
   ],
   "source": [
    "#tworzymy dane treningowe i testowe jednoczesnie\n",
    "data_train = fetch_20newsgroups(subset='train', categories=categories,\n",
    "                                shuffle=True, random_state=42,\n",
    "                                remove=('headers', 'footers', 'quotes'))\n",
    "\n",
    "data_test = fetch_20newsgroups(subset='test', categories=categories,\n",
    "                               shuffle=True, random_state=42,\n",
    "                               remove=('headers', 'footers', 'quotes'))\n",
    "\n",
    "categories = data_train.target_names "
   ]
  },
  {
   "cell_type": "code",
   "execution_count": 33,
   "metadata": {
    "collapsed": true
   },
   "outputs": [],
   "source": [
    "#Dane o numerze 57 - sprawdzamy jak wygladaja\n",
    "id = 57"
   ]
  },
  {
   "cell_type": "code",
   "execution_count": 34,
   "metadata": {},
   "outputs": [
    {
     "name": "stdout",
     "output_type": "stream",
     "text": [
      "When using Photoshop is there anyway to get an elliptical dot for the\n",
      "halftone screen rather than a round dot ? My printer would prefer an\n",
      "elliptical dot, but I'm not sure how to set it up. I'm sending from a Mac\n",
      "IIci to a Linotronic L300 imagesetter and I am using Photoshop 2.0.1 to\n",
      "make my separations.\n",
      "\n",
      "Any help would be greatly appreshed. T.I.A. \n",
      "\n",
      "Michael (Unscene) \n",
      "\n",
      "\n",
      "Michael Maier, Computer Artist, ANL  |  [|Ú]---*Z* Glued to the veiw.      \n"
     ]
    }
   ],
   "source": [
    "#wypisuje przyklad 57\n",
    "print(data_train.data[id])        "
   ]
  },
  {
   "cell_type": "code",
   "execution_count": 38,
   "metadata": {},
   "outputs": [
    {
     "name": "stdout",
     "output_type": "stream",
     "text": [
      "1\n",
      "comp.graphics\n"
     ]
    }
   ],
   "source": [
    "#wypisuje nr kategorii do ktorej pzypisano dany tekst i jej nazwe\n",
    "print(data_train.target[id])\n",
    "print(categories[data_train.target[id]] )"
   ]
  },
  {
   "cell_type": "code",
   "execution_count": 39,
   "metadata": {
    "collapsed": true
   },
   "outputs": [],
   "source": [
    "#aliases\n",
    "y_train, y_test = data_train.target, data_test.target"
   ]
  },
  {
   "cell_type": "code",
   "execution_count": 52,
   "metadata": {},
   "outputs": [],
   "source": [
    "#tworzy macierz tf-idf\n",
    "vectorizer = TfidfVectorizer()  # stwórz instancje obiektu TfidfVectorizer\n",
    "X_train = vectorizer.fit_transform(data_train.data) # naucz vectorizer słownika i przetransformuj dane uczące.  "
   ]
  },
  {
   "cell_type": "code",
   "execution_count": 53,
   "metadata": {},
   "outputs": [
    {
     "name": "stdout",
     "output_type": "stream",
     "text": [
      "Dane treningowe: n_samples: 2034, n_features: 26879\n"
     ]
    }
   ],
   "source": [
    "print(\"Dane treningowe: n_samples: %d, n_features: %d\" % X_train.shape)"
   ]
  },
  {
   "cell_type": "code",
   "execution_count": 54,
   "metadata": {},
   "outputs": [
    {
     "name": "stdout",
     "output_type": "stream",
     "text": [
      "  (0, 12171)\t0.0731879994262\n",
      "  (0, 25588)\t0.0559536599762\n",
      "  (0, 17138)\t0.10129081343\n",
      "  (0, 24080)\t0.0520750439139\n",
      "  (0, 12693)\t0.0679321851406\n",
      "  (0, 26764)\t0.0922985438377\n",
      "  (0, 17493)\t0.0468665681972\n",
      "  (0, 21405)\t0.171704930121\n",
      "  (0, 16239)\t0.0833728827783\n",
      "  (0, 26405)\t0.0343711698537\n",
      "  (0, 3042)\t0.0398408646963\n",
      "  (0, 26768)\t0.0448777935319\n",
      "  (0, 15466)\t0.0992499258926\n",
      "  (0, 18636)\t0.106275629394\n",
      "  (0, 18898)\t0.130296668323\n",
      "  (0, 5443)\t0.100240339273\n",
      "  (0, 24380)\t0.0896249965762\n",
      "  (0, 1152)\t0.339903998683\n",
      "  (0, 10376)\t0.420387057797\n",
      "  (0, 26235)\t0.0485367995293\n",
      "  (0, 20439)\t0.130296668323\n",
      "  (0, 13712)\t0.026335667661\n",
      "  (0, 2853)\t0.0579649024817\n",
      "  (0, 20713)\t0.137322371823\n",
      "  (0, 24155)\t0.0392878118924\n",
      "  :\t:\n",
      "  (2032, 21857)\t0.0671851272472\n",
      "  (2032, 22133)\t0.0714438242783\n",
      "  (2032, 19308)\t0.161505449334\n",
      "  (2032, 11927)\t0.0807527246669\n",
      "  (2032, 5503)\t0.0843055290404\n",
      "  (2032, 23379)\t0.0738416043393\n",
      "  (2032, 24480)\t0.0807527246669\n",
      "  (2032, 15709)\t0.0747568199637\n",
      "  (2032, 6924)\t0.0893129255635\n",
      "  (2032, 24351)\t0.0928657299369\n",
      "  (2032, 18217)\t0.086557156397\n",
      "  (2032, 4683)\t0.278597189811\n",
      "  (2032, 25001)\t0.0978731264601\n",
      "  (2032, 11839)\t0.0978731264601\n",
      "  (2032, 2142)\t0.0978731264601\n",
      "  (2032, 17413)\t0.0978731264601\n",
      "  (2032, 3547)\t0.0978731264601\n",
      "  (2032, 9817)\t0.0978731264601\n",
      "  (2032, 2154)\t0.0978731264601\n",
      "  (2032, 2335)\t0.0978731264601\n",
      "  (2032, 11834)\t0.0978731264601\n",
      "  (2032, 14296)\t0.0978731264601\n",
      "  (2032, 5445)\t0.0978731264601\n",
      "  (2032, 2226)\t0.0978731264601\n",
      "  (2032, 4423)\t0.0978731264601\n"
     ]
    }
   ],
   "source": [
    "print (X_train)"
   ]
  },
  {
   "cell_type": "code",
   "execution_count": 55,
   "metadata": {},
   "outputs": [
    {
     "name": "stdout",
     "output_type": "stream",
     "text": [
      "Dane testowe: n_samples: 1353, n_features: 21544\n"
     ]
    }
   ],
   "source": [
    "X_test = vectorizer.fit_transform(data_test.data)\n",
    "print(\"Dane testowe: n_samples: %d, n_features: %d\" % X_test.shape)"
   ]
  },
  {
   "cell_type": "code",
   "execution_count": 56,
   "metadata": {
    "collapsed": true
   },
   "outputs": [],
   "source": [
    "feature_names = vectorizer.get_feature_names()\n",
    "feature_names = np.asarray(feature_names)"
   ]
  },
  {
   "cell_type": "code",
   "execution_count": 57,
   "metadata": {},
   "outputs": [
    {
     "name": "stdout",
     "output_type": "stream",
     "text": [
      "['00' '000' '0000' ..., 'zwork' 'zyda' 'zyxel']\n"
     ]
    }
   ],
   "source": [
    "clf = ...\n",
    "clf...."
   ]
  },
  {
   "cell_type": "code",
   "execution_count": null,
   "metadata": {
    "collapsed": true
   },
   "outputs": [],
   "source": [
    "DOKONCZYC"
   ]
  }
 ],
 "metadata": {
  "kernelspec": {
   "display_name": "Python 3",
   "language": "python",
   "name": "python3"
  },
  "language_info": {
   "codemirror_mode": {
    "name": "ipython",
    "version": 3
   },
   "file_extension": ".py",
   "mimetype": "text/x-python",
   "name": "python",
   "nbconvert_exporter": "python",
   "pygments_lexer": "ipython3",
   "version": "3.6.4"
  }
 },
 "nbformat": 4,
 "nbformat_minor": 2
}

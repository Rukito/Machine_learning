{
 "cells": [
  {
   "cell_type": "markdown",
   "metadata": {},
   "source": [
    "# Zanim przystąpimy do ćwiczenia\n",
    "* musimy sią upewnić, że mamy aktualną wersję biblioteki sklearn. Skrypt przygotowany jest dla wersji 0.19\n"
   ]
  },
  {
   "cell_type": "code",
   "execution_count": 5,
   "metadata": {},
   "outputs": [
    {
     "name": "stdout",
     "output_type": "stream",
     "text": [
      "Zainstalowana wersja scikit-learn: 0.19.1.\n"
     ]
    }
   ],
   "source": [
    "import sklearn\n",
    "print('Zainstalowana wersja scikit-learn: {}.'.format(sklearn.__version__))"
   ]
  },
  {
   "cell_type": "markdown",
   "metadata": {},
   "source": [
    "W procowni OKWF potrzebne będzie zainstalowanie lokalnego środowiska zgodnie z opisem:\n",
    "\n",
    "https://brain.fuw.edu.pl/edu/index.php/Uczenie_maszynowe_i_sztuczne_sieci_neuronowe/konfiguracja\n",
    "\n",
    "Przyda się ono też do dalszych zajęć."
   ]
  },
  {
   "cell_type": "code",
   "execution_count": 6,
   "metadata": {
    "collapsed": true
   },
   "outputs": [],
   "source": [
    "import matplotlib.pyplot as plt\n",
    "import numpy as np\n",
    "from scipy import diag, interp\n",
    "from itertools import cycle\n",
    "\n",
    "from sklearn.model_selection import StratifiedKFold, train_test_split\n",
    "from sklearn import metrics\n",
    "from sklearn.linear_model import LogisticRegression"
   ]
  },
  {
   "cell_type": "markdown",
   "metadata": {},
   "source": [
    "# Ćwiczenie: Walidacja krzyżowa \n",
    "* W tym ćwiczeniu przyjrzymy się jak miary jakości klasyfikatora zależą od proporcji klas w zbiorze uczącym i od rozmiaru zbioru uczącego\n",
    "* Kaslyfikatorem będzie nadal regresja logistyczna, ale tym razem zaczniemy korzystać z wersji bibliotecznej z modułu [scikit-learn](http://scikit-learn.org/stable/index.html)\n"
   ]
  },
  {
   "cell_type": "markdown",
   "metadata": {},
   "source": [
    "Funkcja do generowania danych:"
   ]
  },
  {
   "cell_type": "code",
   "execution_count": 7,
   "metadata": {
    "collapsed": true
   },
   "outputs": [],
   "source": [
    "def gen(ile):\n",
    "    mu = [(-1,0.5),(1.2,4)] #średnie klas\n",
    "    cov = [diag([3,3]), diag([4,1.7])] #macierze kowariancji dla klas\n",
    "    \n",
    "    X = np.zeros((ile*len(mu), 2)) # miejsce na dane wejściowe\n",
    "    Y = np.zeros((ile*len(mu), 1),dtype = int) # miejsce na dane wyjściowe\n",
    "    for klasa in range(len(mu)):\n",
    "        X[klasa*ile:(klasa+1)*ile] = np.random.multivariate_normal(mu[klasa],cov[klasa],ile)\n",
    "        Y[klasa*ile:(klasa+1)*ile] = klasa\n",
    "    Y = Y.ravel()\n",
    "    return (X,Y)"
   ]
  },
  {
   "cell_type": "markdown",
   "metadata": {},
   "source": [
    "Testujemy tą funkcję, generujemy 50 przykładów, pierwszych 5 wypisujemy, wszystkie rysujemy za pomocą funkcji `scatter`:"
   ]
  },
  {
   "cell_type": "code",
   "execution_count": 8,
   "metadata": {},
   "outputs": [
    {
     "name": "stdout",
     "output_type": "stream",
     "text": [
      "X:  [[-3.06839559 -0.27746759]\n",
      " [ 0.18739208 -3.62206346]\n",
      " [-2.72919116  2.0793986 ]\n",
      " [-1.76860856 -0.6033659 ]\n",
      " [-4.71099356  3.49902146]]\n",
      "Y:  [0 0 0 0 0]\n"
     ]
    },
    {
     "data": {
      "image/png": "[encoded data removed]",
      "text/plain": [
       "<matplotlib.figure.Figure at 0x7f46ea0009b0>"
      ]
     },
     "metadata": {},
     "output_type": "display_data"
    }
   ],
   "source": [
    "X,Y = gen(50)\n",
    "print('X: ', X[0:5,:])\n",
    "print('Y: ', Y[0:5])\n",
    "plt.scatter(X[:,0], X[:,1] ,c = Y, cmap=plt.cm.Set1, alpha =0.5)\n",
    "plt.show()"
   ]
  },
  {
   "cell_type": "markdown",
   "metadata": {},
   "source": [
    "# Klasy równoliczne"
   ]
  },
  {
   "cell_type": "markdown",
   "metadata": {},
   "source": [
    "## Zaobserwujmy zmienność miar jakości klasyfikatora przy wybieraniu podzbiorów do uczenia i testowania ze zbioru uczącego.\n",
    "* do podziałów zbioru zastosujemy funkcję [train_test_split](http://scikit-learn.org/stable/modules/generated/sklearn.model_selection.train_test_split.html)\n",
    "* do obliczania miar jakości zastosujemy funkcje z modułu [sklearn.metrics](http://scikit-learn.org/stable/modules/model_evaluation.html#classification-metrics)"
   ]
  },
  {
   "cell_type": "markdown",
   "metadata": {},
   "source": [
    "Wykonaj podział zbioru uczącego tak aby zestaw testowy stanowił 20% całego zbioru uczącego. Zilustruj za pomocą `scatter` punkty należące do częsści uczącej i dio części testowej:\n",
    "\n",
    "* Podział:"
   ]
  },
  {
   "cell_type": "code",
   "execution_count": null,
   "metadata": {
    "collapsed": true
   },
   "outputs": [],
   "source": [
    "X_train, X_test, y_train, y_test = train_test_split(X, Y, test_size= ...)"
   ]
  },
  {
   "cell_type": "markdown",
   "metadata": {},
   "source": [
    "* Ilustracja:"
   ]
  },
  {
   "cell_type": "code",
   "execution_count": null,
   "metadata": {
    "collapsed": true
   },
   "outputs": [],
   "source": [
    "plt.scatter(X_train[:,0], X_train[:,1], c = y_train, cmap=plt.cm.Set1, alpha =0.5)\n",
    "plt.scatter(X_test[:,0] , X_test[:,1],  c = y_test,  cmap=plt.cm.Set1, alpha =0.5, marker = '*' )\n",
    "plt.show()"
   ]
  },
  {
   "cell_type": "markdown",
   "metadata": {},
   "source": [
    "Regresja logistyczna zaimplementowana jest w klasie [`LogisticRegression`](http://scikit-learn.org/stable/modules/generated/sklearn.linear_model.LogisticRegression.html). Tworzymy instancję obiektu tej klasy:"
   ]
  },
  {
   "cell_type": "code",
   "execution_count": null,
   "metadata": {
    "collapsed": true
   },
   "outputs": [],
   "source": [
    "lr = LogisticRegression()"
   ]
  },
  {
   "cell_type": "markdown",
   "metadata": {},
   "source": [
    "Uczymy go  na zbiorze uczącym:"
   ]
  },
  {
   "cell_type": "code",
   "execution_count": null,
   "metadata": {
    "collapsed": true
   },
   "outputs": [],
   "source": [
    "lr.fit(X_train,y_train)"
   ]
  },
  {
   "cell_type": "markdown",
   "metadata": {},
   "source": [
    "Wykonujemy predykcje dla zbioru testowego:"
   ]
  },
  {
   "cell_type": "code",
   "execution_count": null,
   "metadata": {
    "collapsed": true
   },
   "outputs": [],
   "source": [
    "y_pred = lr.predict(X_test)  "
   ]
  },
  {
   "cell_type": "markdown",
   "metadata": {},
   "source": [
    "Efekty można obejrzeć za pomocą macierzy pomyłek: "
   ]
  },
  {
   "cell_type": "code",
   "execution_count": null,
   "metadata": {
    "collapsed": true
   },
   "outputs": [],
   "source": [
    "print(metrics.confusion_matrix(y_test, y_pred))\n",
    "tn, fp, fn, tp = metrics.confusion_matrix(y_test, y_pred).ravel()\n",
    "print('TN: ',tn,'FP: ', fp, 'FN: ', fn, 'TP: ', tp )"
   ]
  },
  {
   "cell_type": "markdown",
   "metadata": {},
   "source": [
    "W pętli powtórzymy proces podziału zbioru uczącego i dla każdego podziału obliczmy miary jakości:\n",
    "* precyzja pozytywna: (positive predictive value (PPV), precision). Odpowiada na pytanie: \"Jeśli wynik testu jest pozytywny, jakie jest prawdopodobieństwo, że osoba badana jest chora?\"\n",
    "\n",
    "$\\qquad$ $PPV = \\frac{TP}{P'}=\\frac{TP}{ TP + FP}$\n",
    "\n",
    "* czułość: Prawdopodobieństwo, że klasyfikacja będzie poprawna pod warunkiem, że przypadek jest pozytywny (ang. True Positive Rate, Recall). Jest to np. prawdopodobieństwo, że test wykonany dla osoby chorej wykaże, że jest ona chora.\n",
    "\n",
    "$\\qquad$ $TPR = \\frac{TP}{ P} = \\frac{TP} { TP+FN}$\n",
    "\n",
    "\n",
    "* dokładność ( accuracy (ACC)): Prawdopodobieństwo prawidłowej klasyfikacji.\n",
    "\n",
    "$\\qquad$ $ACC = \\frac{TP + TN}{P + N}$\n",
    "\n",
    "* F1-score: średnia harmoniczna z precyzji i czułości:\n",
    "\n",
    "$\\qquad$ $F_1= 2 \\frac{PPV  \\cdot TPR}{PPV+TPR}= \\frac{2TP}{ 2TP+FP+FN}$\n",
    "Miara ta daje ocenę balansu między czułością a precyzją. Miara ta nie uwzględnia wyników prawdziwie negatywnych.\n",
    "\n",
    "* współczynnik korelacji Matthews ( Matthews correlation coefficient):\n",
    "\n",
    "$\\qquad$ $\n",
    "\\text{MCC} = \\frac{ TP \\cdot TN - FP \\cdot FN } {\\sqrt{ (TP + FP) ( TP + FN ) ( TN + FP ) ( TN + FN ) } }\n",
    "$\n",
    "\n",
    "  * Ten współczynnik uwzględnia wyniki zarówno prawdziwie jaki i fałszywie pozytywne i negatywne i jest na ogół uważany jako zrównoważona miara, która może być stosowana nawet wtedy, gdy klasy są bardzo różnej liczebności. \n",
    "  * MCC jest w istocie współczynnikiem korelacji pomiędzy obserwowanymi i przewidywanymi klasyfikacjami binarnymi; zwraca wartość od -1 do +1. \n",
    "    * Współczynnik +1 odpowiada idealnej klasyfikacji, \n",
    "    * 0 nie lepiej niż losowe przypisanie wyniku i \n",
    "    * -1 oznacza całkowitą niezgodę między klasyfikacją  i stanem faktycznym."
   ]
  },
  {
   "cell_type": "code",
   "execution_count": null,
   "metadata": {
    "collapsed": true
   },
   "outputs": [],
   "source": [
    "lr = LogisticRegression() # stwórz instancję klasyfikatora\n",
    "for i in range(10):\n",
    "    X_train, X_test, y_train, y_test = train_test_split( X, Y, test_size=0.2 ) # podziel zbiór z 20% do testowania\n",
    "\n",
    "\n",
    "    lr.fit( X_train, y_train ) # naucz klasyfikator\n",
    "    y_pred = lr.predict(X_test) # wykonaj predykcję dla zbioru testowego\n",
    "    \n",
    "    \n",
    "    PPV = metrics.precision_score(y_test, y_pred)\n",
    "    REC = metrics.recall_score(y_test, y_pred)\n",
    "    ACC = metrics.accuracy_score(y_test, y_pred)\n",
    "    F1 = metrics.f1_score(y_test, y_pred)\n",
    "    MCC = metrics.matthews_corrcoef(y_test, y_pred)\n",
    "    \n",
    "    print('PPV = {p:.3f} REC = {r:.3f} ACC = {a:.3f} F1 = {f:.3f} MCC =  {m:.3f}  '.format(a=ACC,f=F1,m=MCC,p=PPV,r=REC))"
   ]
  },
  {
   "cell_type": "markdown",
   "metadata": {},
   "source": [
    "Widzimy, że miary zmieniają się przy każdym losowaniu.\n",
    "\n",
    "Najczęściej stosuje się nie takie losowe podziały, ale systematyczny podział `k`-krotny (k-fold cross-validation). Procedura wygląda wówczas następująco:\n",
    "* Dzielimy zbiór uczący (X i y) na `k` równych części\n",
    "* Odkładamy 1-szą część jako dane testowe, \n",
    "* Na pozostałych `k-1` częściach uczymy klasyfikator\n",
    "* Obliczamy miary jakości na tej odłożonej części\n",
    "* Wybieramy 2-gą część jako dane testowe\n",
    "* Na pozostałych `k-1` częściach uczymy klasyfikator\n",
    "* Obliczamy miary jakości na tej odłożonej części\n",
    "* $\\vdots$\n",
    "\n",
    "W bibliotece `sklearn` mamy do tego wygodną funkcję `cross_val_score`:"
   ]
  },
  {
   "cell_type": "code",
   "execution_count": null,
   "metadata": {
    "collapsed": true
   },
   "outputs": [],
   "source": [
    "from  sklearn.model_selection import cross_val_score"
   ]
  },
  {
   "cell_type": "markdown",
   "metadata": {},
   "source": [
    "Zobaczmy jak działa:"
   ]
  },
  {
   "cell_type": "code",
   "execution_count": null,
   "metadata": {
    "collapsed": true
   },
   "outputs": [],
   "source": [
    "ppv = cross_val_score(lr, X, Y, cv=10, scoring='precision')\n",
    "print('PPV = {0:.2f} +/- {1:.2f}'.format(ppv.mean(),ppv.std()))\n",
    "rec = cross_val_score(lr, X, Y, cv=10, scoring='recall')\n",
    "print('REC = {0:.2f} +/- {1:.2f}'.format(rec.mean(),rec.std()))\n",
    "acc = cross_val_score(lr, X, Y, cv=10, scoring='accuracy')\n",
    "print('ACC = {0:.2f} +/- {1:.2f}'.format(acc.mean(),acc.std()))\n",
    "f1 = cross_val_score(lr, X, Y, cv=10, scoring='f1')\n",
    "print('F1 = {0:.2f} +/- {1:.2f}'.format(f1.mean(),f1.std()))"
   ]
  },
  {
   "cell_type": "markdown",
   "metadata": {},
   "source": [
    "Dla kompletu zbadajmy jeszcze krzywą ROC. Tym razem też posłużymy się funkcjami bibliotecznymi."
   ]
  },
  {
   "cell_type": "code",
   "execution_count": null,
   "metadata": {
    "collapsed": true
   },
   "outputs": [],
   "source": [
    "skf  = StratifiedKFold(n_splits=6)\n",
    "lr = LogisticRegression()\n",
    "tprs = []\n",
    "aucs = []\n",
    "mean_fpr = np.linspace(0, 1, 100)\n",
    "\n",
    "i = 0\n",
    "for train, test in skf.split(X, Y):\n",
    "    lr.fit(X[train], Y[train]) # fitujemy regresję\n",
    "    probas_ = lr.predict_proba(X[test]) # obliczamy prawdopodobieństwa przynależności przykładów testowych \n",
    "                                        # do klas wg. wyuczonego klasyfikatora \n",
    "                                        # (zwraca on w danym wierszu prawdopodobieństaw dla każdej z możliwych klas)\n",
    "   \n",
    "    # Obliczamy punkty krzywej ROC \n",
    "    fpr, tpr, thresholds = metrics.roc_curve(Y[test], probas_[:, 1]) # względem prawdopodobieństwa klasy 1 \n",
    "    tprs.append(interp(mean_fpr, fpr, tpr))\n",
    "    tprs[-1][0] = 0.0\n",
    "    # i powierzchnię pod krzywą\n",
    "    roc_auc = metrics.auc(fpr, tpr)\n",
    "    aucs.append(roc_auc)\n",
    "    # rysujemy krzywą \n",
    "    plt.plot(fpr, tpr, lw=1, alpha=0.3,\n",
    "             label='ROC dla podziału %d (AUC = %0.2f)' % (i, roc_auc))\n",
    "\n",
    "    i += 1\n",
    "plt.plot([0, 1], [0, 1], linestyle='--', lw=2, color='r',\n",
    "         label='Losowa klasa', alpha=.8)\n",
    "# poniżej podsumowanie: oliczanie średnich i standardowych odchyleń, cieniowanie przedziału ufności \n",
    "mean_tpr = np.mean(tprs, axis=0)\n",
    "mean_tpr[-1] = 1.0\n",
    "mean_auc = metrics.auc(mean_fpr, mean_tpr)\n",
    "std_auc = np.std(aucs)\n",
    "plt.plot(mean_fpr, mean_tpr, color='b',\n",
    "         label=r'Średni ROC (AUC = %0.2f $\\pm$ %0.2f)' % (mean_auc, std_auc),\n",
    "         lw=2, alpha=.8)\n",
    "\n",
    "std_tpr = np.std(tprs, axis=0)\n",
    "tprs_upper = np.minimum(mean_tpr + std_tpr, 1)\n",
    "tprs_lower = np.maximum(mean_tpr - std_tpr, 0)\n",
    "plt.fill_between(mean_fpr, tprs_lower, tprs_upper, color='grey', alpha=.2,\n",
    "                 label=r'$\\pm$ 1 std. dev.')\n",
    "\n",
    "plt.xlim([-0.05, 1.05])\n",
    "plt.ylim([-0.05, 1.05])\n",
    "plt.xlabel('False Positive Rate')\n",
    "plt.ylabel('True Positive Rate')\n",
    "plt.title('ROC')\n",
    "plt.legend(loc=\"lower right\")\n",
    "plt.show()"
   ]
  },
  {
   "cell_type": "markdown",
   "metadata": {},
   "source": [
    "Sprawdźmy jak miary jakości od rozmiaru zbioru uczącego:"
   ]
  },
  {
   "cell_type": "code",
   "execution_count": null,
   "metadata": {
    "collapsed": true
   },
   "outputs": [],
   "source": [
    "N = 10\n",
    "PPV_mean = np.zeros((N,1))\n",
    "PPV_std = np.zeros((N,1))\n",
    "REC_mean = np.zeros((N,1))\n",
    "REC_std = np.zeros((N,1))\n",
    "ACC_mean = np.zeros((N,1))\n",
    "ACC_std = np.zeros((N,1))\n",
    "F1_mean = np.zeros((N,1))\n",
    "F1_std = np.zeros((N,1))\n",
    "\n",
    "n= 30+np.floor(np.logspace(1,4,N)).astype(int)\n",
    "\n",
    "for i in range(N):\n",
    "    X,Y = gen(int(n[i]))\n",
    "    lr = LogisticRegression()\n",
    "    ppv = cross_val_score( lr, X, Y, cv=10, scoring='precision' )\n",
    "    PPV_mean[i] =ppv.mean()\n",
    "    PPV_std[i]  = ppv.std()\n",
    "    rec = cross_val_score( lr, X, Y, cv=10, scoring='recall' )\n",
    "    REC_mean[i]  = rec.mean()\n",
    "    REC_std[i]  = rec.std()\n",
    "    acc = cross_val_score( lr, X, Y, cv=10, scoring='accuracy' )\n",
    "    ACC_mean[i]  = acc.mean()\n",
    "    ACC_std[i]  = acc.std()\n",
    "    f1 = cross_val_score( lr, X, Y, cv=10, scoring='f1' )\n",
    "    F1_mean[i]  = f1.mean()\n",
    "    F1_std[i]  = f1.std()\n",
    "\n",
    "ax = plt.subplot(1,1,1)\n",
    "plt.errorbar(n,PPV_mean,yerr=PPV_std)\n",
    "plt.errorbar(n+2,REC_mean,yerr=REC_std)\n",
    "plt.errorbar(n+4,ACC_mean,yerr=ACC_std)\n",
    "plt.errorbar(n+6,F1_mean,yerr=F1_std)\n",
    "plt.legend(('PPV','REC','ACC','F1'))\n",
    "ax.set_xscale(\"log\", nonposx='clip')\n",
    "plt.show()"
   ]
  },
  {
   "cell_type": "markdown",
   "metadata": {},
   "source": [
    "## Klasy niezrównoważone"
   ]
  },
  {
   "cell_type": "markdown",
   "metadata": {},
   "source": [
    "Wytwórzymy teraz dane w których jedna z klas jest M-krotnie liczniejsza. "
   ]
  },
  {
   "cell_type": "code",
   "execution_count": null,
   "metadata": {
    "collapsed": true
   },
   "outputs": [],
   "source": [
    "def gen_rozne(ile, M):\n",
    "    mu = [(-1,0.5),(1,4)]\n",
    "    #mu = [(-1,0.5),(-1,0.5)]\n",
    "    cov = [diag([1.7,1.8]), diag([1.5,0.7])]\n",
    "    X = np.zeros(((M+1)*ile, 2)) # miejsce na dane wejściowe\n",
    "    Y = np.zeros(((M+1)*ile, 1),dtype = int) # miejsce na dane wyjściowe\n",
    "    print(Y.shape)\n",
    "    klasa = 0\n",
    "    X[0:ile] = np.random.multivariate_normal(mu[klasa],cov[klasa],ile)\n",
    "    Y[0:ile] = klasa\n",
    "    klasa =1 \n",
    "    X[ile:ile+ile*M] = np.random.multivariate_normal(mu[klasa],cov[klasa],ile*M)\n",
    "    Y[ile:ile+ile*M] = klasa\n",
    "    Y = Y.ravel()\n",
    "    print(np.sum(Y==0), np.sum(Y==1) )\n",
    "    return (X,Y)"
   ]
  },
  {
   "cell_type": "markdown",
   "metadata": {},
   "source": [
    "Oglądamy dane:"
   ]
  },
  {
   "cell_type": "code",
   "execution_count": null,
   "metadata": {
    "collapsed": true
   },
   "outputs": [],
   "source": [
    "X,Y = gen_rozne(30,100)\n",
    "plt.scatter(X[:,0], X[:,1], c=Y, cmap=py.cm.Set1, alpha = 0.5)\n",
    "plt.show()"
   ]
  },
  {
   "cell_type": "markdown",
   "metadata": {},
   "source": [
    "Obliczamy miary jakości dla danych niezrównoważonych przy podziale 10-krotnym. Zwróćmy uwagę na różnicę w wartościach 4 pierwszych miar i miary MCC:"
   ]
  },
  {
   "cell_type": "code",
   "execution_count": null,
   "metadata": {
    "collapsed": true
   },
   "outputs": [],
   "source": [
    "lr = LogisticRegression()\n",
    "ppv = cross_val_score( lr, X, Y, cv=10, scoring='precision' )\n",
    "print( 'PPV = {0:.2f} +/- {1:.2f}'.format( ppv.mean(), ppv.std() ) )\n",
    "rec = cross_val_score( lr, X, Y, cv=10, scoring='recall' )\n",
    "print( 'REC = {0:.2f} +/- {1:.2f}'.format( rec.mean(), rec.std() ) )\n",
    "acc = cross_val_score( lr, X, Y, cv=10, scoring='accuracy' )\n",
    "print( 'ACC = {0:.2f} +/- {1:.2f}'.format( acc.mean(), acc.std() ) )\n",
    "f1 = cross_val_score( lr, X, Y, cv=10, scoring='f1' )\n",
    "print( 'F1 = {0:.2f} +/- {1:.2f}'.format( f1.mean(), f1.std() ) )\n",
    "\n",
    "print('-----')\n",
    "\n",
    "MCC=np.zeros((10,1))\n",
    "for i in range(10):\n",
    "    X_train, X_test, y_train, y_test = train_test_split(X, Y, test_size=0.1) # test na 10% aby było podobnie jak dla podziału 10-krotnego\n",
    "    lr.fit( X_train, y_train ) # trenuj model\n",
    "    y_pred = lr.predict(X_test) # predykcja dla zbioru testowego\n",
    "    MCC[i] = metrics.matthews_corrcoef(y_test, y_pred)\n",
    "print('MCC = {0:.2f} +/- {1:.2f}'.format(MCC.mean(),MCC.std()))  \n",
    "   "
   ]
  },
  {
   "cell_type": "markdown",
   "metadata": {},
   "source": [
    "Teraz spróbujemy zobaczyć czy da się to poprawić jeśli w podziałach zadbać o zachowanie proporcji klas. Można to łatwo zrobić za pomocą funkcji `StratifiedKFold` , zwraca ona indeksy do zbiru treningowego i testowego:"
   ]
  },
  {
   "cell_type": "code",
   "execution_count": null,
   "metadata": {
    "collapsed": true
   },
   "outputs": [],
   "source": [
    "skf = StratifiedKFold(n_splits=4)\n",
    "for train, test in skf.split(X, Y):  \n",
    "    lr.fit(X[train,:],Y[train])\n",
    "    y_pred = lr.predict(X[test,:]) \n",
    "    y_test = Y[test]\n",
    "    PPV = metrics.precision_score(y_test, y_pred)\n",
    "    REC = metrics.recall_score(y_test, y_pred)\n",
    "    ACC = metrics.accuracy_score(y_test, y_pred)\n",
    "    F1 = metrics.f1_score(y_test, y_pred)\n",
    "    MCC = metrics.matthews_corrcoef(y_test, y_pred)\n",
    "    \n",
    "    print('PPV = {p:.3f} REC = {r:.3f} ACC = {a:.3f} F1 = {f:.3f} MCC =  {m:.3f}  '.format(a=ACC,f=F1,m=MCC,p=PPV,r=REC))"
   ]
  },
  {
   "cell_type": "markdown",
   "metadata": {},
   "source": [
    "Zbadajmy jeszcze krzywą ROC:"
   ]
  },
  {
   "cell_type": "code",
   "execution_count": null,
   "metadata": {
    "collapsed": true
   },
   "outputs": [],
   "source": [
    "skf  = StratifiedKFold(n_splits=6)\n",
    "lr = LogisticRegression()\n",
    "tprs = []\n",
    "aucs = []\n",
    "mean_fpr = np.linspace(0, 1, 100)\n",
    "\n",
    "i = 0\n",
    "    lr.fit(X[train],Y[train]) # fitujemy regresję\n",
    "    probas_ = lr.predict_proba(X[test]) # obliczamy prawdopodobieństwa przynależności przykładów testowych \n",
    "                                        # do klas wg. wyuczonego klasyfikatora \n",
    "                                        # (zwraca on w danym wierszu prawdopodobieństaw dla każdej z możliwych klas)\n",
    "     \n",
    "    # Obliczamy punkty krzywej ROC \n",
    "    fpr, tpr, thresholds = metrics.roc_curve(Y[test], probas_[:, 1]) # względem prawdopodobieństwa klasy 1 \n",
    "    tprs.append(interp(mean_fpr, fpr, tpr))\n",
    "    tprs[-1][0] = 0.0\n",
    "    # i powierzchnię pod krzywą\n",
    "    roc_auc = metrics.auc(fpr, tpr)\n",
    "    aucs.append(roc_auc)\n",
    "    # rysujemy krzywą \n",
    "    plt.plot(fpr, tpr, lw=1, alpha=0.3,\n",
    "             label='ROC dla podziału %d (AUC = %0.2f)' % (i, roc_auc))\n",
    "\n",
    "    i += 1\n",
    "plt.plot([0, 1], [0, 1], linestyle='--', lw=2, color='r',\n",
    "         label='Losowa klasa', alpha=.8)\n",
    "# poniżej podsumowanie: oliczanie średnich i standardowych odchyleń, cieniowanie przedziału ufności \n",
    "mean_tpr = np.mean(tprs, axis=0)\n",
    "mean_tpr[-1] = 1.0\n",
    "mean_auc = metrics.auc(mean_fpr, mean_tpr)\n",
    "std_auc = np.std(aucs)\n",
    "plt.plot(mean_fpr, mean_tpr, color='b',\n",
    "         label=r'Średni ROC (AUC = %0.2f $\\pm$ %0.2f)' % (mean_auc, std_auc),\n",
    "         lw=2, alpha=.8)\n",
    "\n",
    "std_tpr = np.std(tprs, axis=0)\n",
    "tprs_upper = np.minimum(mean_tpr + std_tpr, 1)\n",
    "tprs_lower = np.maximum(mean_tpr - std_tpr, 0)\n",
    "plt.fill_between(mean_fpr, tprs_lower, tprs_upper, color='grey', alpha=.2,\n",
    "                 label=r'$\\pm$ 1 std. dev.')\n",
    "\n",
    "plt.xlim([-0.05, 1.05])\n",
    "plt.ylim([-0.05, 1.05])\n",
    "plt.xlabel('False Positive Rate')\n",
    "plt.ylabel('True Positive Rate')\n",
    "plt.title('ROC')\n",
    "plt.legend(loc=\"lower right\")\n",
    "plt.show()"
   ]
  },
  {
   "cell_type": "markdown",
   "metadata": {},
   "source": [
    "Powyższe obliczenia obliczenia proszę przeprowadzić dla klas, których rozkłądy wyraźnie się różnią i dla takich które się pokrywają w znacznym stopniu. Trzeba podmienić średnie klas w funkcji generującej dane różnoliczne.\n",
    "\n",
    "## Jaki stąd płynie wniosek?\n"
   ]
  },
  {
   "cell_type": "markdown",
   "metadata": {
    "collapsed": true
   },
   "source": []
  }
 ],
 "metadata": {
  "anaconda-cloud": {},
  "kernelspec": {
   "display_name": "Python 2",
   "language": "python",
   "name": "python2"
  },
  "language_info": {
   "codemirror_mode": {
    "name": "ipython",
    "version": 3
   },
   "file_extension": ".py",
   "mimetype": "text/x-python",
   "name": "python",
   "nbconvert_exporter": "python",
   "pygments_lexer": "ipython3",
   "version": "3.6.4"
  }
 },
 "nbformat": 4,
 "nbformat_minor": 2
}

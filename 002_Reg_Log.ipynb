{
 "cells": [
  {
   "cell_type": "code",
   "execution_count": 1,
   "metadata": {
    "collapsed": true
   },
   "outputs": [],
   "source": [
    "import numpy as np\n",
    "import pylab as py\n",
    "import scipy.optimize as so\n",
    "from ipywidgets import FloatProgress\n",
    "from IPython.display import display"
   ]
  },
  {
   "cell_type": "code",
   "execution_count": 2,
   "metadata": {
    "collapsed": true
   },
   "outputs": [],
   "source": [
    "#load and plot data\n",
    "data = np.loadtxt('reg_log_data1.txt', delimiter = ',')\n",
    "x = data[:, [0,1]]\n",
    "Y = data[:, 2]\n",
    "N = len(Y)\n",
    "X = np.concatenate( ( np.ones((N,1)), x ), axis = 1)\n",
    "\n",
    "#py.figure()\n",
    "#py.scatter( x[:,0], x[:,1], c=Y, cmap=py.cm.Set3)\n",
    "#py.xlabel(\"wynik z matematyki\")\n",
    "#py.ylabel(\"wynik z biologii\")\n",
    "#py.show()"
   ]
  },
  {
   "cell_type": "code",
   "execution_count": 3,
   "metadata": {
    "collapsed": true
   },
   "outputs": [],
   "source": [
    "#Hipoteza regresji logistycznej\n",
    "def hipoteza_reg_log( X1, theta ):\n",
    "  f = np.exp( 0 - np.dot( theta.T, X1 ) )\n",
    "  if f > 1e8:\n",
    "    f = 1e8\n",
    "  if f < 1e-8:\n",
    "    f = 1e-8\n",
    "  h = 1 / (1 + f)\n",
    "  return h"
   ]
  },
  {
   "cell_type": "code",
   "execution_count": 4,
   "metadata": {
    "collapsed": true
   },
   "outputs": [],
   "source": [
    "#Funkcja log-wiarygodnosci\n",
    "def f_log_wiaryg( theta, X, Y):\n",
    "  l = 0.0\n",
    "  for i in range ( len(Y) ):\n",
    "    h =  hipoteza_reg_log( X[i,:], theta )\n",
    "    l += Y[i] * np.log(h) + (1 - Y[i]) * np.log(1-h)\n",
    "  return l"
   ]
  },
  {
   "cell_type": "code",
   "execution_count": 5,
   "metadata": {},
   "outputs": [
    {
     "name": "stdout",
     "output_type": "stream",
     "text": [
      "Optimization terminated successfully.\n",
      "         Current function value: 20.349770\n",
      "         Iterations: 21\n",
      "         Function evaluations: 28\n",
      "         Gradient evaluations: 28\n",
      "Wartość log-wiarygodnosci  dla optymalnych parametrów: -20.3497701589\n",
      "theta: [-25.16133357   0.20623171   0.2014716 ]\n"
     ]
    }
   ],
   "source": [
    "#Maksymalizacja f. wiarygodnosci, czyli optymalizacja parametrow theta\n",
    "def minus_f_log_wiaryg( theta, X, Y ):\n",
    "  return (-1.) * f_log_wiaryg( theta, X, Y )\n",
    "\n",
    "def pochodna_f_log_wiaryg( theta, X, Y ):\n",
    "  dl_dtheta = np.zeros( len(theta) )\n",
    "  for i in range ( len(theta) ):\n",
    "    for j in range ( len(Y) ):\n",
    "      h = hipoteza_reg_log( X[j,:], theta )\n",
    "      dl_dtheta[i] += (Y[j] - h) * X[j,i]\n",
    "  return dl_dtheta\n",
    "\n",
    "def minus_pochodna_f_log_wiaryg( theta, X, Y ):\n",
    "  return (-1.) * pochodna_f_log_wiaryg( theta, X, Y )\n",
    "\n",
    "xDim = X.shape[1]\n",
    "theta0 = np.zeros((xDim, 1))\n",
    "theta_opt = so.fmin_bfgs( minus_f_log_wiaryg, theta0, fprime=minus_pochodna_f_log_wiaryg, args=(X,Y), disp = True )\n",
    "\n",
    "print( 'Wartość log-wiarygodnosci  dla optymalnych parametrów: '+ str(f_log_wiaryg( theta_opt, X, Y )) )\n",
    "print( 'theta: '+str(theta_opt))"
   ]
  },
  {
   "cell_type": "code",
   "execution_count": 6,
   "metadata": {},
   "outputs": [
    {
     "data": {
      "image/png": "[encoded data removed]",
      "text/plain": [
       "<matplotlib.figure.Figure at 0x7f08d8ddf1d0>"
      ]
     },
     "metadata": {},
     "output_type": "display_data"
    }
   ],
   "source": [
    "#Uzyskane parametry na rysunku\n",
    "py.figure()\n",
    "py.scatter( x[:,0], x[:,1], c=Y, cmap=py.cm.Set3)\n",
    "py.xlabel('wynik z matematyki')\n",
    "py.ylabel('wynik z biologii')\n",
    "\n",
    "x_plot = np.array( [np.min(x[:,1]), np.max(x[:,1])] )\n",
    "y_plot = -1. / theta_opt[2] * ( theta_opt[1] * x_plot + theta_opt[0] )\n",
    "py.plot( x_plot, y_plot, 'b' )\n",
    "py.show()"
   ]
  },
  {
   "cell_type": "code",
   "execution_count": 7,
   "metadata": {
    "collapsed": true
   },
   "outputs": [],
   "source": [
    "#Klasyfikacja\n",
    "def klasyfikacja( X1, theta ):\n",
    "  h = hipoteza_reg_log( X1, theta )\n",
    "  if h > 0.5 :\n",
    "    klasa = 1\n",
    "  else:\n",
    "    klasa = 0\n",
    "  return klasa"
   ]
  },
  {
   "cell_type": "code",
   "execution_count": 8,
   "metadata": {},
   "outputs": [
    {
     "name": "stdout",
     "output_type": "stream",
     "text": [
      "Dla kandydata z wynikami 20 z matematyki i 80 z biologii prawdopodobiensto przyjecia wynosi: 0.00725364375567\n",
      "Kandydat zalicza sie do klasy: 0\n"
     ]
    }
   ],
   "source": [
    "#test\n",
    "proba = hipoteza_reg_log(np.array([1, 20, 80]), theta_opt)\n",
    "print(\"Dla kandydata z wynikami 20 z matematyki i 80 z biologii prawdopodobiensto przyjecia wynosi: \" + str(proba))\n",
    "\n",
    "klasa = klasyfikacja(np.array([1, 20, 80]), theta_opt)\n",
    "print(\"Kandydat zalicza sie do klasy: \" + str(klasa))"
   ]
  },
  {
   "cell_type": "code",
   "execution_count": 9,
   "metadata": {
    "collapsed": true
   },
   "outputs": [],
   "source": [
    "#Walidacja\n",
    "TP = 0\n",
    "TN = 0\n",
    "FP = 0\n",
    "FN = 0"
   ]
  },
  {
   "cell_type": "code",
   "execution_count": 10,
   "metadata": {},
   "outputs": [
    {
     "name": "stdout",
     "output_type": "stream",
     "text": [
      "TP:  55\n",
      "FP:  6\n",
      "TN:  34\n",
      "FN:  5\n"
     ]
    }
   ],
   "source": [
    "#Uczenie na zredukowanym zbiorze uczacym\n",
    "for i in range(len(Y)):\n",
    "  testX = X[i]\n",
    "  testY = Y[i]\n",
    "  uczX = np.delete( X, i, axis=0 )\n",
    "  uczY = np.delete( Y, i )\n",
    "\n",
    "  theta_opt = so.fmin_bfgs( minus_f_log_wiaryg, theta0, fprime=minus_pochodna_f_log_wiaryg, args=(uczX,uczY), disp = False )\n",
    "  wynik = klasyfikacja( testX, theta_opt )\n",
    "\n",
    "  if testY == 1 and wynik == 1:\n",
    "     TP += 1\n",
    "  if testY == 1 and wynik == 0:\n",
    "     FN += 1\n",
    "  if testY == 0 and wynik == 1:\n",
    "     FP += 1\n",
    "  if testY == 0 and wynik == 0:\n",
    "     TN += 1\n",
    "\n",
    "print('TP: ', TP)\n",
    "print('FP: ', FP)\n",
    "print('TN: ', TN)\n",
    "print('FN: ', FN)"
   ]
  },
  {
   "cell_type": "code",
   "execution_count": 11,
   "metadata": {
    "collapsed": true
   },
   "outputs": [],
   "source": [
    "#Klasyfikacja z regulowanym progiem zdawalnosci\n",
    "def klasyfikacjaProg( X1, theta, prog ):\n",
    "  h = hipoteza_reg_log( X1, theta )\n",
    "  if h > prog:\n",
    "    klasa = 1\n",
    "  else:\n",
    "    klasa = 0\n",
    "  return klasa"
   ]
  },
  {
   "cell_type": "code",
   "execution_count": 12,
   "metadata": {
    "collapsed": true
   },
   "outputs": [],
   "source": [
    "#Wyznaczanie krzywej ROC\n",
    "def liczROC( X, Y, progi ):\n",
    "  TP = np.zeros( len(progi) )\n",
    "  TN = np.zeros( len(progi) )\n",
    "  FP = np.zeros( len(progi) )\n",
    "  FN = np.zeros( len(progi) )\n",
    "\n",
    "  f = FloatProgress( min=0, max=len(Y) )\n",
    "  display(f)\n",
    "\n",
    "  for i in range( len(Y) ):\n",
    "    f.value+=1\n",
    "    #Wyznaczenie theta opt dla zredukowanych ciagow uczacych\n",
    "    testX = X[i]\n",
    "    testY = Y[i]\n",
    "    uczX = np.delete( X, i, axis=0 )\n",
    "    uczY = np.delete( Y, i )\n",
    "    theta_opt = so.fmin_bfgs( minus_f_log_wiaryg, theta0, fprime=minus_pochodna_f_log_wiaryg, args=(uczX,uczY), disp = False )\n",
    "\n",
    "    #Wyznaczenie TP, ... dla roznych progow\n",
    "    for ind, prog in enumerate( progi ):\n",
    "      wynik = klasyfikacjaProg( testX, theta_opt, prog )\n",
    "\n",
    "      if testY == 1 and wynik == 1:\n",
    "        TP[ind] += 1\n",
    "      if testY == 1 and wynik == 0:\n",
    "        FN[ind] += 1\n",
    "      if testY == 0 and wynik == 1:\n",
    "        FP[ind] += 1\n",
    "      if testY == 0 and wynik == 0:\n",
    "        TN[ind] += 1\n",
    "\n",
    "  TPR = TP/(TP+FN)\n",
    "  FPR = FP/(FP+TN)\n",
    "  return ( FPR, TPR )"
   ]
  },
  {
   "cell_type": "code",
   "execution_count": 13,
   "metadata": {},
   "outputs": [
    {
     "data": {
      "application/vnd.jupyter.widget-view+json": {
       "model_id": "e9a03c0510ff4373a86941eb321aaccc",
       "version_major": 2,
       "version_minor": 0
      },
      "text/plain": [
       "A Jupyter Widget"
      ]
     },
     "metadata": {},
     "output_type": "display_data"
    },
    {
     "name": "stdout",
     "output_type": "stream",
     "text": [
      "FPR:  [ 1.     0.     0.325]\n",
      "TPR:  [ 1.  0.  1.]\n"
     ]
    },
    {
     "data": {
      "image/png": "[encoded data removed]",
      "text/plain": [
       "<matplotlib.figure.Figure at 0x7f08d0fb75f8>"
      ]
     },
     "metadata": {},
     "output_type": "display_data"
    }
   ],
   "source": [
    "progi = np.array([0.0,1.1,0.1])\n",
    "FPR, TPR = liczROC( X, Y, progi )\n",
    "print('FPR: ', FPR)\n",
    "print('TPR: ', TPR)\n",
    "py.figure()\n",
    "py.plot( FPR, TPR, 'o' )\n",
    "py.plot( FPR, TPR )\n",
    "for ind, pr in enumerate( progi ):\n",
    "  py.text( FPR[ind], TPR[ind], str(pr) )\n",
    "py.xlabel( 'FPR' )\n",
    "py.ylabel( 'TPR' )\n",
    "py.xlim( (0,1) )\n",
    "py.ylim( (0,1) )\n",
    "py.show()"
   ]
  },
  {
   "cell_type": "code",
   "execution_count": 14,
   "metadata": {},
   "outputs": [
    {
     "name": "stdout",
     "output_type": "stream",
     "text": [
      "a:  1.0\n",
      "b:  0.0\n",
      "h:  1.0\n",
      "a:  0.0\n",
      "b:  1.0\n",
      "h:  0.325\n",
      "BLAD!!!!!   AUC:  0.6625\n"
     ]
    }
   ],
   "source": [
    "AUC = 0\n",
    "for i in range( len(progi) - 1 ):\n",
    "  a = TPR[i]\n",
    "  b = TPR[i+1]\n",
    "  h = np.abs( FPR[i+1] - FPR[i] )\n",
    "  print('a: ', a)\n",
    "  print('b: ', b)\n",
    "  print('h: ', h)\n",
    "  AUC += 0.5 * (a + b) * h\n",
    "print( 'BLAD!!!!!   AUC: ', AUC)"
   ]
  }
 ],
 "metadata": {
  "kernelspec": {
   "display_name": "Python 3",
   "language": "python",
   "name": "python3"
  },
  "language_info": {
   "codemirror_mode": {
    "name": "ipython",
    "version": 3
   },
   "file_extension": ".py",
   "mimetype": "text/x-python",
   "name": "python",
   "nbconvert_exporter": "python",
   "pygments_lexer": "ipython3",
   "version": "3.6.4"
  }
 },
 "nbformat": 4,
 "nbformat_minor": 2
}

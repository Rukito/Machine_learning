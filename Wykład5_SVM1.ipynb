{
 "cells": [
  {
   "cell_type": "code",
   "execution_count": 1,
   "metadata": {
    "collapsed": true
   },
   "outputs": [],
   "source": [
    "import numpy as np\n",
    "import pylab as py"
   ]
  },
  {
   "cell_type": "markdown",
   "metadata": {
    "slideshow": {
     "slide_type": "slide"
    }
   },
   "source": [
    "### Powtórka\n",
    "* klasyfikacja/regresja\n",
    "* klasyfikacja:\n",
    "  * regresja logistyczna\n",
    "  * regraesja wieloraka\n",
    "  * GAD i naiwny klasyfikator Bayesa\n",
    "  "
   ]
  },
  {
   "cell_type": "markdown",
   "metadata": {
    "slideshow": {
     "slide_type": "slide"
    }
   },
   "source": [
    "## Wstęp: Maszyny Wektorów Nośnych\n",
    "\n",
    "* W tym wykładzie omówimy jeden z najbardziej popularnych algorytmów uczenia maszynowego: algorytm: Maszyny Wektorów Nośnych (ang. <i>Support Vector Machines</i> (SVM)).\n",
    "* Bazuje on an koncepcji rozdzielenia danych należących do różnych klas możliwie dużą ”przerwą”. \n",
    "![](SVM1.png \"By User:ZackWeinberg, based on PNG version by User:Cyc - This file was derived from:  Svm separating hyperplanes.png, CC BY-SA 3.0, https://commons.wikimedia.org/w/index.php?curid=22877598\")"
   ]
  },
  {
   "cell_type": "markdown",
   "metadata": {
    "slideshow": {
     "slide_type": "slide"
    }
   },
   "source": [
    "## Marginesy\n",
    "* Aby wprowadzić tą koncepcję zajmiemy się najpierw wypracowaniem pojęcia marginesu.\n",
    "\n",
    "* Zacznijmy od wyrobienia sobie intuicji co do pewności predykcji. \n",
    "* Rozważmy regresję logistyczną. \n",
    "  * Prawdopodobieństwo przynależności do klasy 1 $p(y=1|x;\\theta )$ dane jest tu przez hipotezę $h_{\\theta }(x) = g(\\theta ^{T}x) = \\frac{1}{1+ \\exp (-\\theta ^{T}x)}$.\n",
    "  "
   ]
  },
  {
   "cell_type": "markdown",
   "metadata": {
    "slideshow": {
     "slide_type": "fragment"
    }
   },
   "source": [
    "  * Umówimy się, że klasę 1 przypiszemy danym $x$ jeśli $h_{\\theta }(x) \\ge 0.5$, \n",
    "    * to odpowiada $\\theta ^{T}x \\ge 0$ (w przeciwnym razie klasę 0)."
   ]
  },
  {
   "cell_type": "markdown",
   "metadata": {
    "slideshow": {
     "slide_type": "fragment"
    }
   },
   "source": [
    "  * Dla wektora $x$ z klasy 1 jesteśmy tym bardziej pewni jego przynależności do tej klasy, im większe będzie $h_{\\theta }(x)$ czyli, czym większe będzie $\\theta ^{T}x$. \n",
    "    * Tak więc dla $\\theta ^{T}x \\gg 0$ jesteśmy bardzo pewni, że $x$ należy do klasy 1, \n",
    "    * zaś dla $\\theta ^{T}x \\ll 0$ jesteśmy bardzo pewni, że $x$ należy do klasy 0."
   ]
  },
  {
   "cell_type": "code",
   "execution_count": 2,
   "metadata": {
    "slideshow": {
     "slide_type": "fragment"
    }
   },
   "outputs": [
    {
     "data": {
      "image/png": "[encoded data removed]",
      "text/plain": [
       "<matplotlib.figure.Figure at 0x106991fd0>"
      ]
     },
     "metadata": {},
     "output_type": "display_data"
    }
   ],
   "source": [
    "# ilustracja:\n",
    "np.random.seed(0)\n",
    "X = np.random.randint(20,size=(20,2))\n",
    "theta = np.array([[-0.2],[0.3]])\n",
    "Y = np.round( 1/(1+np.exp(np.dot(-X, theta))))\n",
    "ind0 = np.where(Y==0)\n",
    "ind1 = np.where(Y==1)\n",
    "py.plot(X[ind0,0],X[ind0,1],'bo') \n",
    "py.plot(X[ind1,0],X[ind1,1],'ro')\n",
    "py.xlabel(\"x_0\")\n",
    "py.ylabel(\"x_1\")\n",
    "# szykuję siątkę \n",
    "x_min, x_max = X[:, 0].min() - .5, X[:, 0].max() + .5\n",
    "y_min, y_max = X[:, 1].min() - .5, X[:, 1].max() + .5\n",
    "h = .02  \n",
    "xx, yy = np.meshgrid(np.arange(x_min, x_max, h), np.arange(y_min, y_max, h))\n",
    "# Obliczamy theta_t* x\n",
    "Z = np.dot(np.c_[xx.ravel(), yy.ravel()],theta)\n",
    "Z = Z.reshape(xx.shape)\n",
    "\n",
    "py.contourf(xx,yy,Z,30) # rysuję kontur rozdzielający klasy\n",
    "py.colorbar(label = \"$\\Theta^{T}x$\")\n",
    "\n",
    "py.contour(xx,yy,Z,0)\n",
    "py.xlim(xx.min(), xx.max())\n",
    "py.ylim(yy.min(), yy.max())\n",
    "py.show()"
   ]
  },
  {
   "cell_type": "markdown",
   "metadata": {
    "slideshow": {
     "slide_type": "notes"
    }
   },
   "source": [
    "Tak więc mając zbiór uczący wydaje się pożądane znalezienie takich parametrów $\\theta $, że dla każdego elementu tego zbioru jeśli należy on do klasy 1 ($y^{(j)}=1$) to mamy $\\theta ^{T}x^{(j)}\\gg 0$, zaś jeśli należy on do klasy 0 ($y^{(j)}=0$) to mamy $\\theta ^{T}x^{(j)}\\ll 0$. Tą intuicję sformalizujemy za chwilę w postaci koncepcji marginesów funkcjonalnych.\n",
    "\n",
    "Na zagadnienie klasyfikacji możemy też spojrzeć geometrycznie. Na zbiór uczący patrzymy jako na zbiór punktów w przestrzeni wejść oznaczonych etykietkami '1' lub '0'. Konstrukcja klasyfikatora polega na znalezieniu prostej (w dwóch wymiarach, w ogólności hiperpowierzchni) możliwie dobrze separującej elementy oznaczone różnymi etykietkami. Równanie hiperpowierzchni dane jest przez $\\theta ^{T}x = 0$. Jeśli teraz dostaniemy nowy punkt $x$ do klasyfikacji to jesteśmy tym bardziej pewni decyzji, im dalej ten punkt leży od owej hiperpowierzchni. Zatem intuicyjnie wydaje się sensowne szukanie takiej hiperpowierzchni, aby elementy zbioru uczącego leżały możliwie daleko od niej. Tą intuicję sformalizujemy za chwilę w postaci koncepcji marginesów geometrycznych."
   ]
  },
  {
   "cell_type": "markdown",
   "metadata": {
    "slideshow": {
     "slide_type": "fragment"
    }
   },
   "source": [
    "### Uwaga o notacji\n",
    "\n",
    "Łatwiej będzie myśleć o hiprepowierzchniach jeśli listę parametrów $\\theta $ rozdzielimy na $w$ i $b$ tak, że $\\theta ^{T}x = w^{T}x + b$. W tej wersji notacji nie potrzebujemy też $x_{0}=1$.\n",
    "\n",
    "Z kolei łatwiej będzie się liczyło jeśli zmienimy etykietki klas z '0' i '1' na '-1', '1'. Zatem na potrzeby opisu SVM przyjmiemy, że $y \\in \\lbrace -1,1\\rbrace $.\n",
    "\n",
    "Zamiast zwracać prawdopodobieństwa przynależności $x$ do klas, które musielibyśmy progować i następnie przydzielać $x$-om etykietki zastosujemy funkcję która od razu zwraca etykietki:\n",
    "\n",
    "$\\qquad \n",
    "h_{w,b}(x) = g(w^{T}x+b) = \\left\\lbrace  \\begin{array} {rcl} 1 & dla & w^{T}x+b \\ge 0 \\\\ -1 & dla & w^{T}x+b < 0 \\\\ \\end{array} \\right.\n",
    "$"
   ]
  },
  {
   "cell_type": "markdown",
   "metadata": {
    "slideshow": {
     "slide_type": "fragment"
    }
   },
   "source": [
    "## Marginesy funkcjonalne i geometryczne"
   ]
  },
  {
   "cell_type": "markdown",
   "metadata": {
    "slideshow": {
     "slide_type": "fragment"
    }
   },
   "source": [
    "### Marginesy funkcjonalne\n",
    "\n",
    "Dla przykładu ze zbioru uczącego $(x^{(j)},y^{(j)})$ definiujemy margines funkcjonalny jako:\n",
    "\n",
    "$\\qquad \n",
    "\\hat{\\gamma }^{(j)} = y^{(j)}(w^{T}x^{(j)} + b)\n",
    "$\n",
    "\n",
    "Zauważmy, że:\n",
    "* dla $y^{(j)}=1$ mamy duży margines funkcjonalny jeśli $w^{T}x^{(j)} +b$ jest dużą dodatnią liczbą. \n",
    "* dla $y^{(j)}=-1$ mamy duży margines funkcjonalny jeśli $w^{T}x^{(j)} +b$ jest dużą ujemną liczbą. \n",
    "    (-> rzućmy okiem na rys.)\n",
    "* Ponadto jeśli klasyfikacja jest prawidłowa to margines funkcjonalny jest dodatni. \n",
    "\n",
    "A zatem dobre parametry $w$ i $b$ powinny dawać duże wartości marginesów funkcjonalnych. "
   ]
  },
  {
   "cell_type": "markdown",
   "metadata": {},
   "source": [
    "> Jedynym problemem takiej definicji marginesów funkcjonalnych jest to, że można je uczynić dowolnie dużymi przez przemnożenie $w$ i $b$ przez odpowiednio dużą liczbę. \n",
    "\n",
    "Wydaje się zatem rozsądne aby do powyższej definicji dodać warunek normalizacji zamieniając $(w,b)$ na $\\left( \\frac{w}{||w||},\\frac{b}{||w||}\\right)$."
   ]
  },
  {
   "cell_type": "markdown",
   "metadata": {
    "slideshow": {
     "slide_type": "fragment"
    }
   },
   "source": [
    "### Margines funkcjonalny dla zbioru uczącego\n",
    "Definicję marginesu funkcjonalnego dla całego zbioru uczącego otrzymujemy wybierając najgorszy przypadek spośród wszystkich marginesów funkcjonalnych dla poszczególnych elementów zbioru:\n",
    "\n",
    "$\\qquad \n",
    "\\hat{\\gamma }= \\min _{j=1,\\dots ,m} \\hat{\\gamma }^{(j)}\n",
    "$"
   ]
  },
  {
   "cell_type": "markdown",
   "metadata": {
    "slideshow": {
     "slide_type": "fragment"
    }
   },
   "source": [
    "### Marginesy geometryczne\n",
    "\n",
    "* Margines geometryczny $\\gamma ^{(j)}$ to odległość danego punktu $x^{(j)}$ od hiperpowierzchni rozdzielającej. \n",
    "* Aby ją znaleźć trzeba obliczyć długość wektora prostopadłego do hiperpowierzchni, o który należy przesunąć punkt $x^{(j)}$ aby znalazł się on na hiperpowierzchni. \n",
    "* Jednostkowy wektor prostopadły do hiperpowierzchni ma współrzędne: $\\frac{w}{||w||}$. Przesunięcie punktu $x^{(j)}$ w kierunku tego wektora otrzymujemy jako $x^{(j)} + \\alpha \\frac{w}{||w||}$. \n",
    "* Jeśli nasz przesunięty punkt ma się znaleźć na hiperpowierzchni separującej to musi spełniać jej równanie (długość tego wymaganego przesunięcia to poszukiwany margines geometryczny $\\gamma ^{(j)}$). \n",
    "* Dla przypadku $y^{(j)}=1$ mamy:\n",
    "\n",
    "$\\qquad \n",
    "w^{T}\\left(x^{(j)} - \\gamma ^{(j)} \\frac{w}{||w||} \\right) +b=0\n",
    "$"
   ]
  },
  {
   "cell_type": "markdown",
   "metadata": {
    "slideshow": {
     "slide_type": "fragment"
    }
   },
   "source": [
    "Rozwiązując to równanie ze względu na $\\gamma ^{(j)}$ dostajemy:\n",
    "\n",
    "$\\qquad \n",
    "\\gamma ^{(j)} = \\frac{w^{T}x^{(j)} +b}{||w||} = \\left( \\frac{w}{||w||} \\right)^{T} x^{(j)}+\\frac{b}{||w||}\n",
    "$"
   ]
  },
  {
   "cell_type": "markdown",
   "metadata": {
    "slideshow": {
     "slide_type": "fragment"
    }
   },
   "source": [
    "* Przypadek $x^{(j)}$ z klasy $y^{(j)} = -1$ wymagałby przesunięcia w kierunku zgodnym z wektorem normalnym do hiperpowierzchni. \n",
    "* Czyli aby uwzględnić oba przypadki jednocześnie możemy zapisać:\n",
    "\n",
    "$\\qquad \n",
    "\\gamma ^{(j)} = y^{(j)}\\left( \\left(\\frac{w}{||w||}\\right)^{T}x^{(j)} + \\frac{b}{||w||}\\right)\n",
    "$"
   ]
  },
  {
   "cell_type": "markdown",
   "metadata": {
    "slideshow": {
     "slide_type": "fragment"
    }
   },
   "source": [
    "Zauważmy, że dla znormalizowanego $w$ ($||w||=1$) dostajemy, że margines funkcjonalny równy jest marginesowi geometrycznemu. \n",
    "\n",
    "I podobnie jak dla marginesów funkcjonalnych, definiujemy margines geometryczny względem zbioru uczącego jako najgorszy przypadek:\n",
    "\n",
    "$\\qquad \n",
    "\\gamma = \\min _{j=1,\\dots ,m} \\gamma ^{(j)}\n",
    "$"
   ]
  },
  {
   "cell_type": "markdown",
   "metadata": {
    "slideshow": {
     "slide_type": "slide"
    }
   },
   "source": [
    "## Klasyfikator optymalny pod względem marginesów -\n",
    "\n",
    "## podstawowa wersja SVM\n",
    "\n",
    "Chwilowo zajmiemy się tylko problemami liniowo separowalnymi.\n",
    "\n",
    "W języku wprowadzonych powyżej definicji możemy powiedzieć, że optymalny jest ten klasyfikator, który daje możliwie największy margines geometryczny (wtedy dane ze zbioru uczącego rozseparowane są przerwą o szerokości co najmniej dwóch marginesów).\n",
    "\n",
    "> Jak wyznaczyć jego parametry?"
   ]
  },
  {
   "cell_type": "markdown",
   "metadata": {
    "slideshow": {
     "slide_type": "fragment"
    }
   },
   "source": [
    "### Wersja 1\n",
    "Dla ustalonego zbioru uczącego możemy sformułować następujący problem optymalizacyjny:\n",
    "\n",
    "$\\qquad \\begin{matrix}\n",
    "\\max _{\\gamma ,w,b} \\gamma && \\\\\n",
    "&\\textrm {p.w.:} &y^{(j)}(w^{T}x^{(j)}+b) \\ge \\gamma , \\; j = 1,\\dots ,m \\\\\n",
    "&&||w|| =1\n",
    "\\end{matrix}$\n",
    "\n",
    "* oznacza to, że chcemy zmaksymalizować $\\gamma $ ale pod warunkiem, że margines funkcjonalny dla każdego przykładu ze zbioru uczącego jest nie mniejszy niż $\\gamma $. \n",
    "* Dodatkowy warunek $||w||=1$ z jednej strony gwarantuje, że nie osiągniemy poprzedniego warunku przez przeskalowanie parametrów w marginesie funkcjonalnym, a z drugiej strony gwarantuje, że marginesy funkcjonalne i geometryczne są sobie równe."
   ]
  },
  {
   "cell_type": "markdown",
   "metadata": {
    "slideshow": {
     "slide_type": "fragment"
    }
   },
   "source": [
    "> Taka formulacja problemu optymalizacyjnego jest jednak bardzo niewygodna. W szczególności warunek $||w||=1$ powoduje, że problem nie jest wypukły (cechą wypukłych problemów optymalizacyjnych jest to, ze mają jedno ekstremum, zatem jest to ekstremum globalne)."
   ]
  },
  {
   "cell_type": "markdown",
   "metadata": {
    "slideshow": {
     "slide_type": "fragment"
    }
   },
   "source": [
    "### Wersja 2\n",
    "Spróbujmy zatem przeformułować ten problem. Skorzystajmy z zależności między marginesem funkcjonalnym a geometrycznym: $\\gamma = \\hat{\\gamma }/||w||$. Rozważmy:\n",
    "\n",
    "\n",
    "$\\begin{matrix}\n",
    "\\max _{\\gamma ,w,b} \\frac{\\hat{\\gamma }(w,b)}{||w||}&& \\\\\n",
    "&\\textrm {p.w.:} &y^{(j)}(w^{T}x^{(j)}+b) \\ge \\hat{\\gamma }, \\; j = 1,\\dots ,m\\end{matrix}$\n",
    "\n",
    "* chcemy znaleźć parametry maksymalnego znormalizowanego marginesu funkcjonalnego. \n",
    "* Pozbyliśmy się dzięki temu niewygodnego warunku $||w||=1$, ale za to mamy niewygodną funkcję celu. \n",
    " \n",
    " > Musimy jeszcze trochę popracować."
   ]
  },
  {
   "cell_type": "markdown",
   "metadata": {
    "slideshow": {
     "slide_type": "fragment"
    }
   },
   "source": [
    "### Z własności marginesów ...\n",
    "Pamiętamy, że skalując współczynniki $w$ i $b$ możemy uzyskać dowolną wartość marginesu funkcjonalnego. Weźmy zatem takie skalowanie, żeby dla zadanego zbioru uczącego otrzymać:\n",
    "\n",
    "$\\qquad \n",
    "\\hat{\\gamma }=1\n",
    "$\n",
    "\n",
    "Możemy takie skalowanie zapewnić, bo gdybyśmy znali jakieś $w$ i $b$ będące rozwiązaniem problemu optymalizacyjnego, które dają margines funkcjonalny $\\gamma ^{*}$ to dzieląc to $w$ i $b$ przez $\\gamma ^{*}$ dostajemy margines funkcjonalny równy 1."
   ]
  },
  {
   "cell_type": "markdown",
   "metadata": {
    "slideshow": {
     "slide_type": "fragment"
    }
   },
   "source": [
    "### Obserwacje \n",
    "Wstawmy zatem $\\hat{\\gamma }= 1$ do formulacji (2):\n",
    "\n",
    "$\\qquad \\begin{matrix}\n",
    "\\max _{w,b} \\frac{1}{||w||}&& \\\\\n",
    "&\\textrm {p.w.:} &y^{(j)}(w^{T}x^{(j)}+b) \\ge 1, \\; j = 1,\\dots ,m\n",
    "\\end{matrix}$\n",
    "\n",
    "Zauwżmy, że:\n",
    "\n",
    "$\\qquad \n",
    "\\max _{w,b} \\frac{1}{||w||} = \\min _{w,b} ||w||=\\min _{w,b}||w||^{2}\n",
    "$"
   ]
  },
  {
   "cell_type": "markdown",
   "metadata": {
    "slideshow": {
     "slide_type": "fragment"
    }
   },
   "source": [
    "### Wersja 3\n",
    "Dzięki tej obserwacji możemy nasz problem optymalizacyjny zapisać w wygodnej formie:\n",
    "\n",
    "$\\qquad \\begin{matrix}\n",
    "\\min _{w,b} ||w||^{2}&& \\\\\n",
    "&\\textrm {p.w.:} &y^{(j)}(w^{T}x^{(j)}+b) \\ge 1, \\; j = 1,\\dots ,m\n",
    "\\end{matrix}$\n",
    "\n",
    "* funkcja celu jest funkcją wypukłą i w związku z tym posiada dokładnie jedno minimum, zatem jest to minimum globalne. \n",
    "* Co więcej do przeprowadzenia takiej minimalizacji wypukłej z więzami istnieje wiele gotowych bibliotek numerycznych."
   ]
  },
  {
   "cell_type": "markdown",
   "metadata": {
    "slideshow": {
     "slide_type": "slide"
    }
   },
   "source": [
    "## Dygresja\n",
    "W zasadzie w tym miejscu można by powiedzieć, że mamy rozwiązany problem.\n",
    "\n",
    "Zrobimy jednak w tym miejscu dygresję o mnożnikach Lagrangea, które to pozwolą na uzyskanie jeszcze dogodniejszej postaci problemu i rozszerzenia metody SVM na bardzo wielowymiarowe wektory cech."
   ]
  },
  {
   "cell_type": "markdown",
   "metadata": {
    "slideshow": {
     "slide_type": "slide"
    }
   },
   "source": [
    "## Mnożniki Lagrangea\n",
    "\n",
    "Metoda mnożników Lagrangea jest ogólnym sposobem rozwiązywania problemów optymalizacyjnych z więzami. Mogliście już o niej słyszeć np. na mechanice klasycznej.\n",
    "\n",
    "Dla przypomnienia:\n",
    "Niech nasz problem optymalizacyjny będzie dany przez:\n",
    "\n",
    "\n",
    "$\\begin{matrix}\n",
    "\\min _{w}f(w)&\\\\\n",
    "\\textrm {p.w.: }&h_{i}(w) =0, i =1,\\dots ,l\n",
    "\\end{matrix}$\n",
    "\n",
    "\n",
    "Aby go rozwiązać budujemy tzw. lagrangian:\n",
    "\n",
    "$\\qquad \n",
    "\\mathcal {L}(w,\\beta ) = f(w) + \\sum _{i=1}^{l} \\beta _{i}h_{i}(w)\n",
    "$\n",
    "\n",
    "współczynniki $\\beta _{i}$ to właśnie mnożniki Lagrangea. "
   ]
  },
  {
   "cell_type": "markdown",
   "metadata": {
    "slideshow": {
     "slide_type": "fragment"
    }
   },
   "source": [
    "Rozwiązaniem wspomnianego wyżej problemu minimalizacyjnego jest rozwiązanie równań:\n",
    "\n",
    "$\\qquad \n",
    "\\frac{\\partial \\mathcal {L}}{\\partial w_{i}} = 0; \\quad \\frac{\\partial \\mathcal {L}}{\\partial \\beta _{i}} = 0\n",
    "$"
   ]
  },
  {
   "cell_type": "markdown",
   "metadata": {
    "slideshow": {
     "slide_type": "fragment"
    }
   },
   "source": [
    "Podejście to można rozszerzyć na problemy optymalizacyjne posiadające więzy w postaci nierówności, tzn takich jak poniższy:\n",
    "\n",
    "\n",
    "$\\begin{matrix}\n",
    "\\min _{w} = f(w) && \\\\\n",
    "\\textrm {pod warunkiem:} & g_{i}(w)\\le 0 , &i = 1,\\dots ,k \\\\\n",
    "& h_{i} (w) = 0 ,& i = 1,\\dots , l\n",
    "\\end{matrix}$\n",
    "\n",
    "![](Inequality_constraint_diagram.png)"
   ]
  },
  {
   "cell_type": "markdown",
   "metadata": {
    "slideshow": {
     "slide_type": "fragment"
    }
   },
   "source": [
    "Aby rozwiązać ten problem musimy najpierw zdefiniować uogólniony lagrangian z mnożnikami $\\alpha _{i}$ i $\\beta _{i}$:\n",
    "\n",
    "$\\qquad \n",
    "\\mathcal {L}(w,\\alpha ,\\beta ) = f(w) + \\sum _{i=1}^{k} \\alpha _{i}g_{i}(w) + \\sum _{i=1}^{k} \\beta _{i}h_{i}(w)\n",
    "$"
   ]
  },
  {
   "cell_type": "markdown",
   "metadata": {
    "slideshow": {
     "slide_type": "fragment"
    }
   },
   "source": [
    "### Problem pierwotny\n",
    "Rozważmy wielkość $\\theta _{p}(w)$ zdefiniowaną:\n",
    "\n",
    "$\\qquad \n",
    "\\theta _{p}(w) = \\max _{\\alpha ,\\beta :\\alpha _{i} \\ge 0} \\mathcal {L}(w,\\alpha ,\\beta )\n",
    "$\n",
    "\n",
    "Ma ona tę własność, że jeśli któryś z warunków nie jest spełniony to wybucha ona do nieskończoności (np. dla $g_{3}(w)>0$ maksymalizacja $\\theta _{p}$ po parametrze $\\alpha _{3}$ dałoby $\\alpha _{3} = \\infty $ a co za tym idzie cały $\\mathcal {L} = \\infty $. Podobnie dla naruszenia warunku $h_{i}(w) = 0$ dla jakiegoś $i$ spowoduje, że odpowiednie $\\beta _{i} = \\infty $ i $\\mathcal {L} = \\infty $.) Natomiast jeśli wszystkie warunki są spełnione to $\\theta _{p} = f(w)$:\n",
    "\n",
    "$\\qquad \n",
    "\\theta _{p} = \\left\\lbrace \n",
    "\\begin{array}{ll}\n",
    "f(w)& \\textrm {jesli } w \\textrm { spełnia warunki} \\\\\n",
    "\\infty &\\textrm {w przeciwnym wypadku}\n",
    "\\end{array}\n",
    "\\right.\n",
    "$\n",
    "\n",
    "Zatem rozwiązanie naszego pierwotnego problemu $p^{*}$ może być zapisane w zwarty sposób tak:\n",
    "\n",
    "$\\qquad \n",
    "p^{*} = \\min _{w} \\theta _{p}(w) = \\min _{w} \\max _{\\alpha ,\\beta : \\alpha _{i }\\ge 0 } \\mathcal {L}(w,\\alpha ,\\beta )\n",
    "$"
   ]
  },
  {
   "cell_type": "markdown",
   "metadata": {
    "slideshow": {
     "slide_type": "fragment"
    }
   },
   "source": [
    "### Problem dualny\n",
    "A teraz przyjrzyjmy się innemu problemowi, który nazywa się dualnym do pierwotnego.\n",
    "Definiujemy wielkość $\\theta _{d}$:\n",
    "\n",
    "$\\qquad \n",
    "\\theta _{d} (\\alpha ,\\beta ) = \\min _{w} \\mathcal {L}(w,\\alpha ,\\beta )\n",
    "$\n",
    "\n",
    "O ile wielkość $\\theta _{p}$ była wartością lagrangianu zmaksymailzowanego względem $\\alpha $ i $ \\beta $ to\n",
    "wielkość $\\theta _{d}$ jest wartością tego lagrangianu zminimalizowanego po $w$. Dualny problem optymalizacyjny polega na znalezieniu takiego $d^{*}$, że:\n",
    "\n",
    "$\\qquad \n",
    "d^{*} = \\max _{\\alpha ,\\beta : \\alpha\n",
    "_{i}\\ge 0} \\theta _{d} = \\max _{\\alpha ,\\beta : \\alpha _{i}\\ge 0} \\min _{w} \\mathcal {L}(w,\\alpha ,\\beta )\n",
    "$\n",
    "\n",
    "Widać, że problem pierwotny różni się od dualnego kolejnością operacj max i min. Można też zauważyć, że w ogólności zachodzi relacja:\n",
    "\n",
    "$\\qquad \n",
    "d^{*} = \\max _{\\alpha ,\\beta : \\alpha _{i}\\ge 0} \\min _{w} \\mathcal {L}(w,\\alpha ,\\beta ) \\le \\min _{w} \\max _{\\alpha ,\\beta : \\alpha _{i}\\ge 0} \\mathcal {L}(w,\\alpha ,\\beta ) =p^{*}\n",
    "$\n",
    "### Na przykład:\n",
    "$\\max_{y\\in\\{0,1\\}}(\\min_{x\\in\\{0,1\\}}1\\{x==y\\})$ \n",
    "\n",
    "$\\min_{x\\in\\{0,1\\}}(\\max_{y\\in\\{0,1\\}}1\\{x==y\\})$"
   ]
  },
  {
   "cell_type": "markdown",
   "metadata": {
    "slideshow": {
     "slide_type": "slide"
    }
   },
   "source": [
    "### Kiedy te problemy mają to samo rozwiązanie?\n",
    "Pod pewnymi warunkami zachodzi nawet coś ciekawszego a mianowicie:\n",
    "\n",
    "$\\qquad \n",
    "d^{*} = p^{*}\n",
    "$\n",
    "\n",
    "czyli zamiast rozwiązywać pierwotny problem, możemy rozwiązać problem dualny i stwierdzić, że jest on rozwiązaniem problemu pierwotnego.\n",
    "\n",
    "Równość ta zachodzi pod następującymi warunkami: \n",
    "* $f$ i $g_{i}$ muszą być wypukłe, \n",
    "* $h_{i}$ muszą być afiniczne (tzn. postaci $h_{i}(w) = a_{i}^{T}w + b_{i}$), \n",
    "* oraz dla pewnego $w$ zachodzi $g_{i}(w) <0$. \n",
    "Pod tymi warunkami istnieją $w^{*},\\alpha ^{*},\\beta ^{*}$,\n",
    "dla których $p^{*}=d^{*}=\\mathcal {L} (w^{*},\\alpha ^{*},\\beta ^{*})$.\n",
    "Ponadto $w^{*},\\alpha ^{*},\\beta ^{*}$ spełniają:\n",
    "\n",
    "warunki Karush-Kuhn-Tucker'a (KKT):\n",
    "\n",
    "$\\begin{matrix}\n",
    "\\frac{\\partial }{\\partial w_{i}} \\mathcal {L} (w^{*},\\alpha ^{*},\\beta ^{*})&=& 0 , \\quad i = 1,\\dots ,k \\\\\n",
    "\\frac{\\partial }{\\partial \\beta _{i}} \\mathcal {L} (w^{*},\\alpha ^{*},\\beta ^{*})&=& 0 , \\quad i = 1,\\dots ,l \\\\\n",
    "\\alpha _{i}^{*} g_{i}(w^{*}) &=&0, \\quad i = 1,\\dots ,k \\\\\n",
    "g_{i}(w^{*}) &\\le & 0, \\quad i =1,\\dots ,k \\\\\n",
    "\\alpha ^{*} &\\ge & 0, \\quad i=1,\\dots ,k\n",
    "\\end{matrix}$\n",
    "\n",
    "* Pierwsze dwie równości zapewniają byćie w ekstremum Lagrangianu \n",
    "* trzecia zapewnia, że dla więzów aktywych $g_i$ $\\alpha_i$ jest zerowa.\n",
    "* nierówność cztery zapewnia, że nie naruszamy warunków problemu\n",
    "* ostatnia nierówność zapewnia, że nie zmienimy zwrotów nierówności w warunkach problemu\n",
    "\n",
    "Prawdziwe jest też twierdzenie odwrotne. Jeśli jakieś parametry $w^{*},\\alpha ^{*},\\beta ^{*}$ spełniają warunki KKT to są też rozwiązaniem problemu pierwotnego i dualnego.\n",
    "\n",
    "Zwróćmy uwagę na warunek $\\alpha _{i}^{*} g_{i}(w^{*})=0$. Mówi on tyle, że jeśli dla jakiegoś $i$ $\\alpha_{i}>0$ to $g_{i}(w^{*}) =0$. Warunek ten przyda się później do pokazania, że wektorów nośnych w SVM jest niewiele i do pokazania zbieżności wydajnego algorytmu budowania SVM."
   ]
  },
  {
   "cell_type": "markdown",
   "metadata": {
    "slideshow": {
     "slide_type": "slide"
    }
   },
   "source": [
    "\n",
    "\n",
    "Kuhn, H. W.; Tucker, A. W. Nonlinear Programming. Proceedings of the Second Berkeley Symposium on Mathematical Statistics and Probability, 481--492, University of California Press, Berkeley, Calif., 1951. http://projecteuclid.org/euclid.bsmsp/1200500249."
   ]
  }
 ],
 "metadata": {
  "anaconda-cloud": {},
  "celltoolbar": "Slideshow",
  "kernelspec": {
   "display_name": "Python 3",
   "language": "python",
   "name": "python3"
  },
  "language_info": {
   "codemirror_mode": {
    "name": "ipython",
    "version": 3
   },
   "file_extension": ".py",
   "mimetype": "text/x-python",
   "name": "python",
   "nbconvert_exporter": "python",
   "pygments_lexer": "ipython3",
   "version": "3.6.4"
  },
  "livereveal": {
   "progress": true,
   "scroll": true,
   "start_slideshow_at": "selected",
   "theme": "serif",
   "width": 1600
  }
 },
 "nbformat": 4,
 "nbformat_minor": 2
}

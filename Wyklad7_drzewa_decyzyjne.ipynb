{
 "cells": [
  {
   "cell_type": "markdown",
   "metadata": {
    "slideshow": {
     "slide_type": "slide"
    }
   },
   "source": [
    "# Powtórzenie:\n",
    "* Idea uczenia maszynowego\n",
    "* główna idea SVM\n",
    "* separowalność liniowa\n",
    "* funkcje jadrowe\n",
    "* problem pierwotny i dualny, Lagrangian\n",
    "* minimalna optymalizacja osiowa\n",
    "\n"
   ]
  },
  {
   "cell_type": "code",
   "execution_count": 1,
   "metadata": {
    "collapsed": true
   },
   "outputs": [],
   "source": [
    "import numpy as np\n",
    "import matplotlib.pyplot as plt\n",
    "\n",
    "from sklearn.datasets import load_iris\n",
    "from sklearn.tree import DecisionTreeClassifier"
   ]
  },
  {
   "cell_type": "markdown",
   "metadata": {
    "slideshow": {
     "slide_type": "slide"
    }
   },
   "source": [
    "# Wstęp\n",
    "\n",
    "* Drzewa decyzyjne to popularne narzędzia do “data mining” \n",
    "* Nadają się szczególnie dobrze do klasyfikacji, ale można je też przystosować do problemów regresji. \n",
    "* My skupimy się na ich zastosowaniach w klasyfikacji (podjęcia decyzji)."
   ]
  },
  {
   "cell_type": "markdown",
   "metadata": {
    "slideshow": {
     "slide_type": "slide"
    }
   },
   "source": [
    "# Cechy algorytmów drzewiastych:\n",
    "* łatwe do zrozumienia\n",
    "* generują wyjście, które jest łatwo interpretować\n",
    "* dość łatwe w użyciu -> niezbyt dużo parametrów do dopasowywania zanim uda się z nich wycisnąć coś użytecznego\n",
    "* dobrze skalowalne\n",
    "* są algorytmem typu “white box” - można łatwo wizualizować wiedzę, której wyuczył się algorytm\n",
    "* mogą działać zarówno z danymi numerycznymi/ciągłymi jak i kategorycznymi/dyskretnymi\n",
    "* algorytmy są typu “konstrukcyjnego poszukiwania” - drzewa “rosną” dopasowując się do danych \n",
    "* najczęściej uczone są “wsadowo” (batch mode)"
   ]
  },
  {
   "cell_type": "markdown",
   "metadata": {
    "slideshow": {
     "slide_type": "slide"
    }
   },
   "source": [
    "# Jak można wyobrażać sobie drzewo decyzyjne \n",
    "* składa się z węzłów\n",
    "* w danym węźle testowana jest wartość jednej cechy z przykładu uczącego \n",
    "* węzeł ma rozgałęzienia zależne od wyniku testu"
   ]
  },
  {
   "cell_type": "markdown",
   "metadata": {
    "slideshow": {
     "slide_type": "slide"
    }
   },
   "source": [
    "## Przykład z decyzją o spacerze \n",
    "* Załóżmy, że chdzimy na spacer w zależności od pogody. \n",
    "* Zobaczmy jak może wyglądać drzewo opisujące podejmowanie decyzji o spacerze. \n",
    "* Drzewo takie budujemy w oparciu o zastaw wcześniejszych obserwacji różnych parametrów (cech) i podjętych decyzji. Innymi słowy mamy **zbiór uczący**.\n",
    "* cechy (wejście): (Zachmurzenie{słonecznie, pochmurno, pada}, temperatura, wilgotność, wiatr)\n",
    "* wyjście: tak/nie\n",
    "\n",
    "![](1024px-Drzewo1.svg.png)"
   ]
  },
  {
   "cell_type": "markdown",
   "metadata": {
    "slideshow": {
     "slide_type": "fragment"
    }
   },
   "source": [
    "* cechy, np. temperatura, nie musi być istotna\n",
    "* nie wszystkie cechy muszą być wykorzystane w drzewie decyzyjnym, może to wynikać z tego, że cechy są skorelowane/redundantne albo po prostu okazać się nieistotne dla problemu\n",
    "* jednym z ważnych pytań, które tu się pojawiają jest to w jakiej kolejność wybierać cechy -> intuicja: od najbardziej informatywnych, tych które najszybciej prowadzą do decyzji\n",
    "* jeśli cechy są ciągłe to można wprowadzić próg -> np. wilgotność (próg =75%) , wiatr(próg 20km/h)"
   ]
  },
  {
   "cell_type": "markdown",
   "metadata": {
    "slideshow": {
     "slide_type": "slide"
    }
   },
   "source": [
    "# Podział przestrzeni cech\n",
    "* W drzewach decyzyjnych granice między klasami mają postać hiperpowierzchni równoległych do osi cech "
   ]
  },
  {
   "cell_type": "code",
   "execution_count": 2,
   "metadata": {
    "collapsed": false,
    "slideshow": {
     "slide_type": "fragment"
    }
   },
   "outputs": [
    {
     "data": {
      "image/png": "[encoded data removed]",
      "text/plain": [
       "<matplotlib.figure.Figure at 0x10cba22b0>"
      ]
     },
     "metadata": {},
     "output_type": "display_data"
    }
   ],
   "source": [
    "\n",
    "\n",
    "# Parameters\n",
    "n_classes = 3\n",
    "plot_colors = \"bry\"\n",
    "plot_step = 0.02\n",
    "\n",
    "# Load data\n",
    "iris = load_iris()\n",
    "iris.feature_names = ['dł. działki kielicha (cm)', 'szer. działki kielicha (cm)', 'dł. płatka  (cm)', 'szer. płatka (cm)']\n",
    "pair = [0,2]\n",
    "X = iris.data[:, pair]\n",
    "y = iris.target\n",
    "\n",
    "# Train\n",
    "clf = DecisionTreeClassifier().fit(X, y)\n",
    "\n",
    "x_min, x_max = X[:, 0].min() - 1, X[:, 0].max() + 1\n",
    "y_min, y_max = X[:, 1].min() - 1, X[:, 1].max() + 1\n",
    "xx, yy = np.meshgrid(np.arange(x_min, x_max, plot_step),\n",
    "                         np.arange(y_min, y_max, plot_step))\n",
    "\n",
    "Z = clf.predict(np.c_[xx.ravel(), yy.ravel()])\n",
    "Z = Z.reshape(xx.shape)\n",
    "cs = plt.contourf(xx, yy, Z, cmap=plt.cm.Paired)\n",
    "\n",
    "plt.xlabel(iris.feature_names[pair[0]])\n",
    "plt.ylabel(iris.feature_names[pair[1]])\n",
    "plt.axis(\"tight\")\n",
    "\n",
    "    # Plot the training points\n",
    "for i, color in zip(range(n_classes), plot_colors):\n",
    "    idx = np.where(y == i)\n",
    "    plt.scatter(X[idx, 0], X[idx, 1], c=color, label=iris.target_names[i], cmap=plt.cm.Paired)\n",
    "plt.title(\"Podział przestrzeni cech\")\n",
    "plt.legend(loc='lower right')\n",
    "plt.show()\n"
   ]
  },
  {
   "cell_type": "markdown",
   "metadata": {
    "slideshow": {
     "slide_type": "fragment"
    }
   },
   "source": [
    "> ciężko jest nauczyć separacji klas, które na płaszczyźnie są separowane pochyłą prostą\n",
    "\n",
    "* mając dużo danych można taką prostą aproksymować wieloma schodkami (przykład z podziałem przestrzeni 2D na prostokąty )\n",
    "* w rzeczywistych zastosowaniach, gdy mamy wielowymiarowe cechy a dane są dość rzadkie, zwykle da się poprowadzić hiperpowierzchnie"
   ]
  },
  {
   "cell_type": "markdown",
   "metadata": {
    "slideshow": {
     "slide_type": "slide"
    }
   },
   "source": [
    "## Czy można wyuczyć drzewo dowolnej funkcji logicznej?\n",
    "\n",
    "* tak bo funkcje logiczne można reprezentować za pomocą tablic prawdy (matryc logicznych)\n",
    "\n",
    "| A | B | A or B |\n",
    "|---|---|:------:|\n",
    "| 0 | 0 |    0   |\n",
    "| 0 | 1 |    1   |\n",
    "| 1 | 0 |    1   |\n",
    "| 1 | 1 |    1   |"
   ]
  },
  {
   "cell_type": "markdown",
   "metadata": {
    "slideshow": {
     "slide_type": "fragment"
    }
   },
   "source": [
    "![](Drzewo_OR.png)"
   ]
  },
  {
   "cell_type": "markdown",
   "metadata": {
    "slideshow": {
     "slide_type": "slide"
    }
   },
   "source": [
    "# Jak uczyć drzewo?"
   ]
  },
  {
   "cell_type": "markdown",
   "metadata": {
    "slideshow": {
     "slide_type": "slide"
    }
   },
   "source": [
    "## Zarys algorytmu\n",
    "* Załóżmy, że mamy kryterium $S$, które powie jak bardzo istotna jest dana cecha $c$ (To kryterium, to funkcja $S(c)$, która jest tym większa im bardziej istotna jest cecha)\n",
    "* zaczynamy od korzenia i pełnego zbioru danych \n",
    "  * obliczamy $\\arg \\max_c S(c)$\n",
    "  * na razie załóżmy, że cecha c jest logiczna: 0 lub 1, \n",
    "     * jeśli wartość wybranej cechy jest 0 to idziemy na lewo (i zostaje nam tylko pewien podzbiór danych) \n",
    "     * w przeciwnym razie (jeśli 1) to idziemy na prawo (i też pozostaje nam podzbiór - pozostała część)\n",
    "     * w tym miejscu mówimy sobie, że ten podzbiór, który nam pozostał to cały zbiór -> rekurencja\n",
    "     * rekurencyjnie podążamy tak długo aż:\n",
    "       * zostaje nam podzbiór, który należy tylko do jednej klasy\n",
    "       * nie mamy już cech, którymi można by zróżnicować przykłady"
   ]
  },
  {
   "cell_type": "markdown",
   "metadata": {
    "slideshow": {
     "slide_type": "slide"
    }
   },
   "source": [
    "W pseudokodzie wygląda to tak:\n",
    "* Oznaczenia:\n",
    "  * `D` - dane treningowe\n",
    "  * `x` - wektor wszystkich cech\n",
    "  * `x_j` - pojedyncza cecha, j-ta współrzędna wektora cech\n",
    "```\n",
    "HodujDrzewo(D)\n",
    "    S = D\n",
    " \tif ( y=0 dla wszystkich {x,y} w S ) return nowyLiść(0)\n",
    " \telseif ( y=1 dla wszystkich  {x,y} w S ) return nowyLiść(1) \n",
    " \telse\n",
    "        wybierz najlepsze  x_j\n",
    "        S_0 = wszystkie {x,y} w S dla których x_j = 0\n",
    "        S_1 = wszystkie {x,y} w S dla których x_j = 1\n",
    "        return nowyWęzeł( x_j, HodujDrzewo(S_0), HodujDrzewo(S_1))\n",
    "```"
   ]
  },
  {
   "cell_type": "markdown",
   "metadata": {
    "slideshow": {
     "slide_type": "slide"
    }
   },
   "source": [
    "## Jak wybrać najlepszą cechę?\n",
    "\n",
    "* wybrać tą cechę, która wzięta pod uwagę sama daje najmniejszy błąd przewidywania na zbiorze uczącym \n",
    "  * taka cecha, że jeśli podzielimy wg. niej to mamy najmniejszą sumę błędów w lewej i prawej gałęzi)\n",
    "   \n",
    "|przykład| x1 | x2 | x3 | y |\n",
    "|:--:    |:--:|:--:|:--:|:-:|\n",
    "|1   | 0  | 0  | 0  | 1 |\n",
    "|2| 0 | 0 | 1 | 0 |\n",
    "|3| 0 | 1 | 0 | 1 |\n",
    "|4| 0 | 1 | 1 | 1 |\n",
    "|5| 1 | 0 | 0 | 0 |\n",
    "|6| 1 | 0 | 1 | 1 |\n",
    "|7| 1 | 1 | 0 | 0 |\n",
    "|8| 1 | 1 | 1 | 0 |"
   ]
  },
  {
   "cell_type": "markdown",
   "metadata": {
    "slideshow": {
     "slide_type": "fragment"
    }
   },
   "source": [
    "* Podział wzg. X1 (jeśli x1=0 to y = 1, jeśli x1=1 to y = 0) dałby łącznie 1+1 =2 błędy\n",
    "\n",
    "* Podział wzg. X2 (jeśli x2=0 to y = 1, jeśli x2=1 to y = 0) dałby łącznie 2+2 = 4 błędy\n",
    "* Podział wzg. X3 (jeśli x3=0 to y = 1, jeśli x3=1 to y = 0) dałby łącznie 2+2 = 4 błędy"
   ]
  },
  {
   "cell_type": "markdown",
   "metadata": {
    "slideshow": {
     "slide_type": "fragment"
    }
   },
   "source": [
    "Podział wzg. ilości błędów może nie być optymalny, \n",
    "* NP-zupełny problem aby znaleźć najmniejsze drzewo dla konkretnych danych- > trzeba posługiwać się heurystykami\n",
    "* warto skorzystać z miar dostarczanych przez teorię informacji"
   ]
  },
  {
   "cell_type": "markdown",
   "metadata": {
    "slideshow": {
     "slide_type": "slide"
    }
   },
   "source": [
    "### Krótkie przypomnienie z teorii informacji\n",
    "Mamy monetę, która ma nierówne prawdopodobieństwa:\n",
    "* P(V=0) = 0.2\n",
    "* P(V=1) =0.8\n",
    "\n",
    "(V - zmienna z rozkładu Bernouliego)\n",
    "\n",
    "Jak bardzo się zdziwimy, dowiadując się, że zmienna V ma jakąś konkretną wartość?\n",
    "* bardziej zdziwieni będziemy widząc wartość mniej prawdopodobną\n",
    "* jeśli wynik zawsze byłby 1 to jaka powinna być wartość funkcji mierzącej nasze zdziwienie? (0)\n",
    "* jeśli otrzymalibyśmy wynik niemożliwy, to nasze zdziwienie powinno być nieskończone"
   ]
  },
  {
   "cell_type": "markdown",
   "metadata": {
    "slideshow": {
     "slide_type": "fragment"
    }
   },
   "source": [
    "Te warunki spełnia: \n",
    "$\\qquad$ $S(V=v) = -\\log P(V=v)$"
   ]
  },
  {
   "cell_type": "markdown",
   "metadata": {
    "slideshow": {
     "slide_type": "fragment"
    }
   },
   "source": [
    "#### Entropia\n",
    "* Entropia to średnie zdziwienie (wartość oczekiwana zdziwienia)\n",
    "$\\qquad$ $H(V) = \\sum_{v=0}^1 -P(V=v)log P(V=v)$\n",
    "* Entropia może być miarą niepewności"
   ]
  },
  {
   "cell_type": "markdown",
   "metadata": {
    "slideshow": {
     "slide_type": "fragment"
    }
   },
   "source": [
    "Dla zmiennej z rozkładu Bernouliego entropia wygląda tak:\n",
    "\n",
    "\n",
    "$\\qquad$ $H(V) = p*log_2(p) + (1-p)*log_2(1-p)$"
   ]
  },
  {
   "cell_type": "code",
   "execution_count": 3,
   "metadata": {
    "collapsed": false
   },
   "outputs": [
    {
     "data": {
      "image/png": "[encoded data removed]",
      "text/plain": [
       "<matplotlib.figure.Figure at 0x105b8c278>"
      ]
     },
     "metadata": {},
     "output_type": "display_data"
    }
   ],
   "source": [
    "p = np.arange(0.001, 1, 0.001)\n",
    "plt.plot(p, -p*np.log2(p) - (1-p)*np.log2(1-p))\n",
    "plt.xlabel('p')\n",
    "plt.ylabel('H(V)')\n",
    "plt.show()"
   ]
  },
  {
   "cell_type": "markdown",
   "metadata": {
    "slideshow": {
     "slide_type": "fragment"
    }
   },
   "source": [
    "Ważne jest to, że kształt wykresu entropii od  P jest gładką funkcją wypukłą i ma gdzieś maksimum\n",
    "(inna funkcja o podobnych własnościach to np GINI (https://pl.wikipedia.org/wiki/Współczynnik_Giniego)- używana przez statystyków: \n",
    "\n",
    "$\\qquad$ $\\sum_k P(V=k)(1-P(V=k)) $, gdzie k to klasa)"
   ]
  },
  {
   "cell_type": "markdown",
   "metadata": {
    "slideshow": {
     "slide_type": "fragment"
    }
   },
   "source": [
    "#### Informacja wzajemna (Mutual information)\n",
    "Informacja wzajemna pomiędzy dwiema zmiennymi losowymi to redukcja entropii  jednej  z nich (A) kiedy poznamy drugą (B):\n",
    "\n",
    "$\\qquad$ $I(A;B) = H(A)-\\sum_b P(B=b)\\cdot H(A|B=b)$\n",
    "\n",
    "> Innymi słowy mierzy ona redukcję niepewności o przynależności do klasy jeśli znamy jedną z cech."
   ]
  },
  {
   "cell_type": "markdown",
   "metadata": {
    "slideshow": {
     "slide_type": "fragment"
    }
   },
   "source": [
    "* informacja wzajemna jest dobrą miarą do wskazania, którą z cech należy użyć w danym kroku konstrukcji drzewa, bo użycie tej cechy, która ma największa informacje wzajemną z klasami najbardziej zredukuje naszą niepewność.\n",
    "* można łatwo na obrazku pokazać że funkcja o takim kształcie jak entropia (wykres Entropia(P) ) - ze względu na jej wypukły kształt podział zbioru na dwie części zawsze obniża średnią entropię.\n",
    "\n",
    "![](zmniejszanie_entropii.png)"
   ]
  },
  {
   "cell_type": "markdown",
   "metadata": {
    "slideshow": {
     "slide_type": "slide"
    }
   },
   "source": [
    "## Uczenie drzewa z wartościami, które nie są 0/1"
   ]
  },
  {
   "cell_type": "markdown",
   "metadata": {
    "slideshow": {
     "slide_type": "fragment"
    }
   },
   "source": [
    "### Wiele wartości dyskretnych \n",
    "* można wykonać podział zamiast na dwa liście to na tyle ile jest wartości\n",
    "* można po kolei przetestować podział względem każdej z wartości po kolei grupując wartości na mniejsze i większe niż pewna wartość\n",
    "### dla wartości ciągłych \n",
    "* wybór progu można oprzeć na przetestowaniu jako możliwego progu każdej z obserwacji w zbiorze uczącym."
   ]
  },
  {
   "cell_type": "markdown",
   "metadata": {
    "slideshow": {
     "slide_type": "slide"
    }
   },
   "source": [
    "### Problem reprezentacji danych\n",
    "\n",
    "#### Przykład przystość:\n",
    "\n",
    "* rozróżnienie między tym co można reprezentować, a tym co można nauczyć konkretnym algorytmem\n",
    "\n",
    "* funkcja parzystości = jak wiele bitów jest 1 ? czy to jest liczba parzysta czy nie? \n",
    "  * np. dla 6-cio bitowych wektorów: \n",
    "     * [0 1 0 1 1 0] -> nieparzysty ;  \n",
    "     * [0 1 0 1 1 1] -> parzysty \n",
    "  * algorytmy drzewiaste nieźle radzą sobie jeśli przestrzeń cech posiada duże obszary należące do danej klasy -> wtedy podziały kolejnymi płaszczyznami są efektywne\n",
    "  * problemem są odwzorowania wymagające bardzo dużo podziałów \n",
    "  * gdyby mieć właściwą reprezentację danych zadanie z parzystością jest trywialne"
   ]
  },
  {
   "cell_type": "markdown",
   "metadata": {
    "slideshow": {
     "slide_type": "slide"
    }
   },
   "source": [
    "### Uczenie z wielowartościowymi cechami \n",
    "\n",
    "* kiepskie są cechy o takich wartościach, że są unikalne dla pojedynczych przykładów w zbiorze uczącym (np. NIP) -> nie ma wtedy generalizacji\n",
    "* Taka cecha niesie sama w sobie bardzo dużo informacji o przykładzie, ale podział zbiory względem tej klasy niekoniecznie musi dawać wiele informacji"
   ]
  },
  {
   "cell_type": "markdown",
   "metadata": {
    "slideshow": {
     "slide_type": "slide"
    }
   },
   "source": [
    "## Uczenie z brakującymi wartościami\n",
    "\n",
    "* nie zawsze jest tak dobrze, że znamy wartości wszystkich cech dla wszystkich przykładów w ciągu uczącym, (ale dla wszystkich znamy ich klasy). Załóżmy że w przykładzie i-tym brakuje wartości dla cechy A. W węźle n-tym drzewa trzeba testować wartość A:\n",
    "  * dla brakującej cechy można wymusić jakąś wartość np. najbardziej prawdopodobną w całym zbiorze danych\n",
    "  * nieco lepiej jest wymusić wartość najbardziej prawdopodobną dla klasy do której należy przykład i-ty\n",
    "  * w pewnym sensie przy dojściu do takiego niepewnego węzła, dla którego brakuje nam danych możemy “rozmnożyć”  ten przykład proporcjonalnie do częstości występowania różnych wartości brakującej cechy w danej klasie. Tzn. załóżmy, że A przyjmuje wartości $v_i$ z prawdopodobieństwem $p_i$ . W dół drzewa wysyłamy frakcje tego przykładu wynoszące $p_i$ \n",
    "  * w czasie klasyfikacji po dojściu do liści, patrzymy jak  dużo mamy głosów na daną klasę."
   ]
  },
  {
   "cell_type": "markdown",
   "metadata": {
    "slideshow": {
     "slide_type": "slide"
    }
   },
   "source": [
    "## Problem przeuczenia/ nadmiernego dopasowania \n",
    "\n",
    "\n",
    "> Nadmierne dopasowanie mamy wtedy gdy dopasowana przez nas hipoteza $h$ dobrze pasuje do danych treningowych ale ma złą generalizację , tzn. można by było wymyślić lepszą hipotezę $h’$, która może na naszym zbiorze treningowym jest porównywalna z $h$ ale na pełnej przestrzeni cech $h’$ jest lepsza."
   ]
  },
  {
   "cell_type": "markdown",
   "metadata": {
    "slideshow": {
     "slide_type": "slide"
    }
   },
   "source": [
    "## Diagnostyka przeuczania\n",
    "Musimy podzielić zbiór uczący na treningowy i testowy i patrzeć jak zachowują się miary jakości (np. dokładność ) wraz ze wzrostem skomplikowania drzewa\n",
    "* można też sprawdzać czy dołożenie podziału najlepszej cechy faktycznie zmienia rozkład klas \n",
    "  * co tu znaczy rozkład klas? - w przypadku binarnym czy po podziale w podzbiorze lewym i prawym proporcja pomiędzy klasą 0 i klasą 1 jest istotnie różna do tej proporcji przed podziałem. Na skutek podziałów dążymy do tego żeby np. z lewej wytworzyć same 0 a z prawej same 1)(pre-puning)\n",
    "* tak jak w innych technikach wzrost skomplikowania hipotezy prowadzi do coraz lepszego dopasowania na zbiorze treningowym, ale powyżej pewnego progu na zbiorze testowym dopasowanie zaczyna się pogarszać."
   ]
  },
  {
   "cell_type": "markdown",
   "metadata": {
    "slideshow": {
     "slide_type": "slide"
    }
   },
   "source": [
    "## Przycinanie drzew \n",
    "\n",
    "\n",
    "* post-prune: wyucz drzewo na zbiorze treningowym. Korzystając ze zbioru testowego znajdź te węzły, których usunięcie (wraz ze wszystkimi dalszymi gałęziami) najmniej popsuje wynik(np. dokładność), postępuj tak długo jak długo miara jakość na zbiorze testowym się poprawia (wycinamy gałęzie stanowiące dopasowanie do szczegółów zbioru treningowego)\n",
    "\n",
    "* wprowadzenie czynnika każącego za stopień skomplikowania drzewa do funkcji mierzącej poprawę dopasowania (regularyzacja)"
   ]
  },
  {
   "cell_type": "markdown",
   "metadata": {
    "slideshow": {
     "slide_type": "fragment"
    }
   },
   "source": [
    "## Rule Post pruning\n",
    "\n",
    "* zamiast wycinać gałęzie po prostu, są one zamieniane w zestaw “zasad”\n",
    "* zasady to zwinięte warunki logiczne. tzn drzewo ma w każdym węźle formułkę \n",
    "  * “if A< $\\theta$ then left” , \n",
    "  * zasada to zwinięcie tych wszystkich węzłów prowadzących do jednego liścia w jeden warunek logiczny połączony “and” np. \n",
    "  * “if A<$\\theta_1$ & B> $\\theta_2$ & C< $\\theta_3$ then klasa =0”\n",
    "\n",
    "* mamy tyle zasad ile liści\n",
    "* można potem usuwać te których usunięcie powoduje wzrost dokładności na zbiorze testowym\n",
    "\n",
    "* zasady można ułożyć w kolejności od największej do najmniejszej dokładności i wzg. “przekrycia” tzn. jak wiele przypadków z ciągu uczącego dana reguła obejmuje"
   ]
  },
  {
   "cell_type": "markdown",
   "metadata": {
    "slideshow": {
     "slide_type": "slide"
    }
   },
   "source": [
    "# Skalowanie\n",
    "* algorytmy wymagające losowego dostępu do danych-> dane powinny mieścić się w pamięci\n",
    "* algorytmy wymagające sekwencyjnego dostępu do danych, po każdym przejściu przez dane aktualizujemy model: dane mogą byś zapisane na dysku  (SPRINT, SLIQ)\n",
    "* algorytmy działające na strumieniu danych. Założenie jest takie, że algorytm może skorzystać z danych tylko raz (VFDT - very fast decision tree)."
   ]
  },
  {
   "cell_type": "raw",
   "metadata": {
    "slideshow": {
     "slide_type": "slide"
    }
   },
   "source": [
    "# Podsumowanie:\n",
    "* drzewa jako algorytm \"White box\"\n",
    "* rekurencyjne hodowanie drzew\n",
    "* jak poradzić sobie z przeuczaniem?"
   ]
  }
 ],
 "metadata": {
  "anaconda-cloud": {},
  "celltoolbar": "Slideshow",
  "kernelspec": {
   "display_name": "Python [conda root]",
   "language": "python",
   "name": "conda-root-py"
  },
  "language_info": {
   "codemirror_mode": {
    "name": "ipython",
    "version": 3
   },
   "file_extension": ".py",
   "mimetype": "text/x-python",
   "name": "python",
   "nbconvert_exporter": "python",
   "pygments_lexer": "ipython3",
   "version": "3.5.2"
  },
  "livereveal": {
   "height": 800,
   "progress": true,
   "scroll": true,
   "start_slideshow_at": "selected",
   "theme": "serif",
   "width": 1700
  }
 },
 "nbformat": 4,
 "nbformat_minor": 2
}
